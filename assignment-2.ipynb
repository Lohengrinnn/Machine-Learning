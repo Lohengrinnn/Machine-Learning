{
 "cells": [
  {
   "cell_type": "code",
   "execution_count": null,
   "metadata": {},
   "outputs": [],
   "source": []
  },
  {
   "cell_type": "code",
   "execution_count": null,
   "metadata": {},
   "outputs": [],
   "source": []
  },
  {
   "cell_type": "markdown",
   "metadata": {},
   "source": [
    "# CS6140 Assignments\n",
    "\n",
    "**Instructions**\n",
    "1. In each assignment cell, look for the block:\n",
    " ```\n",
    "  #BEGIN YOUR CODE\n",
    "  raise NotImplementedError.new()\n",
    "  #END YOUR CODE\n",
    " ```\n",
    "1. Replace this block with your solution.\n",
    "1. Test your solution by running the cells following your block (indicated by ##TEST##)\n",
    "1. Click the \"Validate\" button above to validate the work.\n",
    "\n",
    "**Notes**\n",
    "* You may add other cells and functions as needed\n",
    "* Keep all code in the same notebook\n",
    "* In order to receive credit, code must \"Validate\" on the JupyterHub server\n",
    "\n",
    "---"
   ]
  },
  {
   "cell_type": "code",
   "execution_count": null,
   "metadata": {},
   "outputs": [],
   "source": []
  },
  {
   "cell_type": "markdown",
   "metadata": {
    "deletable": false,
    "editable": false,
    "nbgrader": {
     "checksum": "d6903764b4d7026f31c33b933efc0a2e",
     "grade": false,
     "grade_id": "cell-209f62dc85e57ee7",
     "locked": true,
     "schema_version": 1,
     "solution": false
    }
   },
   "source": [
    "# Assignment 2: Clustering"
   ]
  },
  {
   "cell_type": "code",
   "execution_count": null,
   "metadata": {
    "deletable": false,
    "editable": false,
    "nbgrader": {
     "checksum": "50ce7ee7360ee0b0043c175b04e80234",
     "grade": false,
     "grade_id": "cell-55a67766bb552d49",
     "locked": true,
     "schema_version": 1,
     "solution": false
    }
   },
   "outputs": [],
   "source": [
    "require './assignment_lib'"
   ]
  },
  {
   "cell_type": "markdown",
   "metadata": {
    "deletable": false,
    "editable": false,
    "nbgrader": {
     "checksum": "92897becd5fd0085bd947259ef7a1aa5",
     "grade": false,
     "grade_id": "cell-170b1be70eda3888",
     "locked": true,
     "schema_version": 1,
     "solution": false
    }
   },
   "source": [
    "## Question 1.1: K-Means (25 points)\n",
    "\n",
    "The following dataset has 5 clusters. Generate a dataset with 5 means in two dimensions, with means $\\mu$ and variance $\\sigma$ defined as follows:\n",
    "* $\\mu_1 = (-4,4)$, $\\sigma_1 = 1$\n",
    "* $\\mu_2 = (-4,-4)$, $\\sigma_2 = 1$\n",
    "* $\\mu_3 = (4,4)$, $\\sigma_3 = 1$\n",
    "* $\\mu_4 = (4,-4)$, $\\sigma_4 = 1$\n",
    "* $\\mu_5 = (0,0)$, $\\sigma_5 = 1$\n",
    "\n",
    "Name your features ```x1``` and ```x2```.\n",
    "\n",
    "Generate 100 points in each cluster and plot each cluster with a different color.  Use the same format we usually use with the cluster id as the ```label``` field and also set the cluster in a field called ```cluster```. \n",
    "\n",
    "To generate a value from a normal distribution, use the following:\n",
    "\n",
    "```ruby\n",
    "r = Distribution::Normal.rng(mean,stdev)\n",
    "x = r.call()\n",
    "```"
   ]
  },
  {
   "cell_type": "code",
   "execution_count": null,
   "metadata": {
    "scrolled": true
   },
   "outputs": [],
   "source": []
  },
  {
   "cell_type": "code",
   "execution_count": null,
   "metadata": {
    "deletable": false,
    "nbgrader": {
     "checksum": "e54006cd40359eb85bd3e1d9889044c0",
     "grade": false,
     "grade_id": "cell-1cb0100f7efe89e6",
     "locked": false,
     "schema_version": 1,
     "solution": true
    }
   },
   "outputs": [],
   "source": [
    "def random_point(cluster, sigma, label)\n",
    "  x1, x2 = cluster\n",
    "  point = Hash.new\n",
    "  point[\"features\"] = Hash.new\n",
    "  #radius = Distribution::Normal.rng(0, sigma).call.abs\n",
    "  #theta = 2 * Math::PI * rand()\n",
    "  #point[\"features\"][\"x1\"] = x1 + radius * Math.cos(theta)\n",
    "  #point[\"features\"][\"x2\"] = x2 + radius * Math.sin(theta)\n",
    "  point[\"features\"][\"x1\"] = x1 + Distribution::Normal.rng(0, sigma).call\n",
    "  point[\"features\"][\"x2\"] = x2 + Distribution::Normal.rng(0, sigma).call\n",
    "  point[\"cluster\"] = cluster\n",
    "  point[\"label\"] = label\n",
    "  point\n",
    "end\n",
    "\n",
    "def create_cluster_dataset()\n",
    "  n = 100\n",
    "  clusters = [[-4,4], [-4,-4], [4,4], [4,-4], [0,0]]\n",
    "  dataset = []\n",
    "  #BEGIN YOUR CODE\n",
    "  clusters.each_with_index do |cluster, index|\n",
    "    (1..n).each do\n",
    "      dataset << random_point(cluster, 1, index)\n",
    "    end\n",
    "  end\n",
    "  #END YOUR CODE\n",
    "  return dataset\n",
    "end"
   ]
  },
  {
   "cell_type": "code",
   "execution_count": null,
   "metadata": {
    "deletable": false,
    "editable": false,
    "nbgrader": {
     "checksum": "ea4576a81206355ffc18792419ce912a",
     "grade": true,
     "grade_id": "cell-1ac6e84306bf8a37",
     "locked": true,
     "points": 5,
     "schema_version": 1,
     "solution": false
    },
    "scrolled": true
   },
   "outputs": [],
   "source": [
    "def test_11_1()\n",
    "  dataset = create_cluster_dataset()\n",
    "  assert_false(dataset.empty?)\n",
    "  assert_equal 500, dataset.size\n",
    "  plot_clusters(dataset)\n",
    "end\n",
    "test_11_1()"
   ]
  },
  {
   "cell_type": "code",
   "execution_count": null,
   "metadata": {
    "deletable": false,
    "editable": false,
    "nbgrader": {
     "checksum": "8341f6b90ade75afa0889baf5ae9a47e",
     "grade": true,
     "grade_id": "cell-a6100841ca0c2971",
     "locked": true,
     "points": 10,
     "schema_version": 1,
     "solution": false
    }
   },
   "outputs": [],
   "source": [
    "def test_11_2()\n",
    "  dataset = create_cluster_dataset()\n",
    "  counts = dataset.group_by {|x| x[\"cluster\"]}\n",
    "  counts.each_key {|k| counts[k] = counts[k].size}\n",
    "  assert_equal 5, counts.size\n",
    "  assert counts.values.all? {|v| v == 100}\n",
    "  \n",
    "  counts = dataset.group_by {|x| x[\"label\"]}\n",
    "  counts.each_key {|k| counts[k] = counts[k].size}\n",
    "  assert_equal 5, counts.size\n",
    "  assert counts.values.all? {|v| v == 100}\n",
    "\n",
    "end\n",
    "test_11_2()"
   ]
  },
  {
   "cell_type": "code",
   "execution_count": null,
   "metadata": {
    "deletable": false,
    "editable": false,
    "nbgrader": {
     "checksum": "2a79eebe0aa38337730f2fab75fc9ad7",
     "grade": true,
     "grade_id": "cell-09a1705f91d1d892",
     "locked": true,
     "points": 10,
     "schema_version": 1,
     "solution": false
    }
   },
   "outputs": [],
   "source": [
    "def test_11_3()\n",
    "  dataset = create_cluster_dataset()\n",
    "  clusters = dataset.group_by {|x| x[\"label\"]}\n",
    "  means = [[-4,4], [-4,-4], [4,4], [4,-4], [0,0]]\n",
    "  5.times do |i|\n",
    "    assert_not_nil clusters[i]\n",
    "    assert_equal 100, clusters[i].size\n",
    "    m1 = clusters[i].inject(0.0) {|u,r| u += r[\"features\"][\"x1\"]} / 100.0\n",
    "    m2 = clusters[i].inject(0.0) {|u,r| u += r[\"features\"][\"x2\"]} / 100.0\n",
    "    assert_in_delta m1, means[i][0], 0.5\n",
    "    assert_in_delta m2, means[i][1], 0.5    \n",
    "  end\n",
    "end\n",
    "test_11_3()"
   ]
  },
  {
   "cell_type": "markdown",
   "metadata": {
    "deletable": false,
    "editable": false,
    "nbgrader": {
     "checksum": "9ac565c63e799b4b02390b5b44ed776d",
     "grade": false,
     "grade_id": "cell-aa36aceefb84b158",
     "locked": true,
     "schema_version": 1,
     "solution": false
    }
   },
   "source": [
    "## Question 1.2 (25 points)\n",
    "\n",
    "Generate $k = 5$ random means, each within the min and max of each feature value."
   ]
  },
  {
   "cell_type": "code",
   "execution_count": null,
   "metadata": {
    "deletable": false,
    "nbgrader": {
     "checksum": "53ee87c8c582ae6903c1f7e0617f0882",
     "grade": false,
     "grade_id": "cell-6a934e257380e926",
     "locked": false,
     "schema_version": 1,
     "solution": true
    }
   },
   "outputs": [],
   "source": [
    "def init_cluster data, k\n",
    "  means = Hash.new {|h,k| h[k] = Hash.new {|h,k| h[k] = 0.0}}\n",
    "  x1min, x1max = data.map { |x| x[\"features\"][\"x1\"] }.minmax\n",
    "  x2min, x2max = data.map { |x| x[\"features\"][\"x2\"] }.minmax\n",
    "  k.times do |i|\n",
    "    means[i][\"x1\"] = x1min + (x1max - x1min) * rand()\n",
    "    means[i][\"x2\"] = x2min + (x2max - x2min) * rand()\n",
    "  end\n",
    "  means\n",
    "end"
   ]
  },
  {
   "cell_type": "code",
   "execution_count": null,
   "metadata": {
    "deletable": false,
    "editable": false,
    "nbgrader": {
     "checksum": "517afbc378254ed37ad82c6c5aab4976",
     "grade": true,
     "grade_id": "cell-52ceae8580209a6d",
     "locked": true,
     "points": 25,
     "schema_version": 1,
     "solution": false
    }
   },
   "outputs": [],
   "source": [
    "def test_12_1()\n",
    "  dataset = create_cluster_dataset()  \n",
    "  means = init_cluster dataset, 5\n",
    "  assert_equal 5, means.size\n",
    "  assert_equal 2, means.first.size\n",
    "  5.times {|i| assert means.has_key? i}\n",
    "  assert_true(means.values.all? {|m| m[\"x1\"].abs < 10}, \"Expected mean of x1 in [-10, 10]\")\n",
    "  assert_true(means.values.all? {|m| m[\"x2\"].abs < 10}, \"Expected mean of x2 in [-10, 10]\")\n",
    "end\n",
    "\n",
    "test_12_1()"
   ]
  },
  {
   "cell_type": "markdown",
   "metadata": {
    "deletable": false,
    "editable": false,
    "nbgrader": {
     "checksum": "60b929735b7d31165baac93d87e5098f",
     "grade": false,
     "grade_id": "cell-ce9dfce19a65313a",
     "locked": true,
     "schema_version": 1,
     "solution": false
    }
   },
   "source": [
    "## Question 2.1: (10 points)\n",
    "We will now implement the k-means algorithm to recover the clusters above. Return the means and plot the obtained clustering. Compare your discovered means to the known means.\n",
    "\n",
    "Starting from a randomly initialized set of clusters defined by a set of means, we will iteratively refine our estimate of the clustering. At each step, we update the means, assign clusters, and update means from the assigned clustering. We denote candidate cluster membership by the binary vector $z_{i,j} = 1$ if example $i$ belongs to cluster $j$. Use an ```Array``` for a row of z.\n",
    "\n",
    "Start by setting the $z$ vector by assigning finding the mean closest to each point in the datset. Set the candidate cluster in the ```cluster``` field in each row. "
   ]
  },
  {
   "cell_type": "code",
   "execution_count": null,
   "metadata": {
    "deletable": false,
    "nbgrader": {
     "checksum": "8f21445100d43d04e795cc750f2ace75",
     "grade": false,
     "grade_id": "cell-8703280af8c50289",
     "locked": false,
     "schema_version": 1,
     "solution": true
    }
   },
   "outputs": [],
   "source": [
    "def assign_cluster(data, means)\n",
    "  indices = Array.new(means.size) {|i| i}\n",
    "  z = Array.new\n",
    "  data.each do |point|\n",
    "    cluster_index = indices.min_by {|i| ((means[i][\"x1\"] - point[\"features\"][\"x1\"]) ** 2 + (means[i][\"x2\"] - point[\"features\"][\"x2\"]) ** 2) }\n",
    "    point[\"cluster\"] = cluster_index\n",
    "    zi = Array.new(means.size, 0.0)\n",
    "    zi[cluster_index] = 1.0\n",
    "    z << zi\n",
    "  end\n",
    "  return z\n",
    "end"
   ]
  },
  {
   "cell_type": "code",
   "execution_count": null,
   "metadata": {
    "deletable": false,
    "editable": false,
    "nbgrader": {
     "checksum": "d7634247ad1b7b97e82519ec6517617f",
     "grade": true,
     "grade_id": "cell-534b63511cbeda9d",
     "locked": true,
     "points": 10,
     "schema_version": 1,
     "solution": false
    }
   },
   "outputs": [],
   "source": [
    "def test_21_1()\n",
    "  dataset = create_cluster_dataset()  \n",
    "  means = init_cluster dataset, 5\n",
    "  z = assign_cluster(dataset, means)\n",
    "  assert_equal 500, z.size\n",
    "  assert_true(z.all? {|zi| zi.size == 5}, \"Must set a value for each cluster\")\n",
    "  assert_true(z.all? {|zi| g = zi.group_by {|zij| zij}; g[0.0].size == 4 and g[1.0].size == 1}, \n",
    "    \"Must set only one cluster to 1.0 and all others to 0.0 (not an integer)\")\n",
    "  \n",
    "  plot_clusters(dataset)\n",
    "end\n",
    "test_21_1()"
   ]
  },
  {
   "cell_type": "markdown",
   "metadata": {
    "deletable": false,
    "editable": false,
    "nbgrader": {
     "checksum": "1b744d49165af360f081e6198d603301",
     "grade": false,
     "grade_id": "cell-54d6674154ce5a05",
     "locked": true,
     "schema_version": 1,
     "solution": false
    }
   },
   "source": [
    "## Question 2.2: (5 points)\n",
    "Given the $z$ vector and the dataset, calculate the means for each cluster determined by $z$. \n"
   ]
  },
  {
   "cell_type": "code",
   "execution_count": null,
   "metadata": {
    "deletable": false,
    "nbgrader": {
     "checksum": "6656ca7b2da5e46d7d8f7f2f30e8601c",
     "grade": false,
     "grade_id": "cell-f651c1c0bc2344d7",
     "locked": false,
     "schema_version": 1,
     "solution": true
    }
   },
   "outputs": [],
   "source": [
    "def calculate_means z, data\n",
    "  means = Hash.new {|h,k| h[k] = Hash.new {|h,k| h[k] = 0.0}}\n",
    "  cnt = Array.new(z[0].size, 0)\n",
    "  data.size.times do |i|\n",
    "    z[i].size.times do |j|\n",
    "      if z[i][j] == 1.0\n",
    "        cnt[j] += 1\n",
    "        means[j][\"x1\"] += data[i][\"features\"][\"x1\"]\n",
    "        means[j][\"x2\"] += data[i][\"features\"][\"x2\"]\n",
    "      end\n",
    "    end\n",
    "  end\n",
    "  cnt.size.times do |j|\n",
    "    if cnt[j] > 0.0\n",
    "      means[j][\"x1\"] /= cnt[j]\n",
    "      means[j][\"x2\"] /= cnt[j]\n",
    "    else\n",
    "      means[j][\"x1\"] = 0.0\n",
    "      means[j][\"x2\"] = 0.0\n",
    "    end\n",
    "  end\n",
    "  means\n",
    "end"
   ]
  },
  {
   "cell_type": "code",
   "execution_count": null,
   "metadata": {
    "deletable": false,
    "editable": false,
    "nbgrader": {
     "checksum": "cd27d95f603644619d768d44455c353c",
     "grade": true,
     "grade_id": "cell-7fff6a6137b36c9b",
     "locked": true,
     "points": 5,
     "schema_version": 1,
     "solution": false
    }
   },
   "outputs": [],
   "source": [
    "def test_22_1()\n",
    "  dataset = create_cluster_dataset()  \n",
    "  means1 = init_cluster dataset, 5\n",
    "  z = assign_cluster(dataset, means1)\n",
    "\n",
    "  assert_equal 500, dataset.size\n",
    "  assert_equal 500, z.size\n",
    "\n",
    "  means2 = calculate_means(z, dataset)\n",
    "  assert_equal 5, means2.size\n",
    "  5.times {|i| assert means2.has_key? i}\n",
    "  \n",
    "  5.times do |i|\n",
    "    assert_true((means2[i][\"x1\"] - means1[i][\"x1\"]).abs > 1e-5, \"Expected means to change\")\n",
    "    assert_true((means2[i][\"x2\"] - means1[i][\"x2\"]).abs > 1e-5, \"Expected means to change\")\n",
    "  end  \n",
    "\n",
    "  assert_true(means2.values.all? {|fm| fm[\"x1\"].abs < 10}, \"Expected mean of x1 in [-10, 10]\")\n",
    "  assert_true(means2.values.all? {|fm| fm[\"x2\"].abs < 10}, \"Expected mean of x2 in [-10, 10]\")\n",
    "end\n",
    "\n",
    "test_22_1()"
   ]
  },
  {
   "cell_type": "markdown",
   "metadata": {},
   "source": [
    "## Question 2.3: (5 points)\n",
    "As we iteratively refine our means for the clusters, we need to terminate after some criterion. Stop when the cluster distances are less than $\\tau = 0.001$ and plot the convergence. First, let's calculate the distance between the set of $k$ means, using squared distance. Use the following formula for the termination criteria:\n",
    "\n",
    "#  $\\frac{1}{k} \\sum_{k} \\left\\lVert \\mu^{(k)}_t - \\mu^{(k)}_{t - 1} \\right\\rVert^2 \\le \\tau$\n"
   ]
  },
  {
   "cell_type": "code",
   "execution_count": null,
   "metadata": {
    "deletable": false,
    "nbgrader": {
     "checksum": "f5599d9d143648788c9d8114478b41d3",
     "grade": false,
     "grade_id": "cell-b7105f7e91a2eba1",
     "locked": false,
     "schema_version": 1,
     "solution": true
    }
   },
   "outputs": [],
   "source": [
    "def cluster_dist(m0, m1)\n",
    "  dist = 0.0\n",
    "  m0.keys.each do |key|\n",
    "    dist += m0[key].keys.inject(0.0) {|dist1, k| dist1 += (m0[key][k] - m1[key][k]) ** 2 }\n",
    "  end\n",
    "  dist / m0.size\n",
    "end"
   ]
  },
  {
   "cell_type": "code",
   "execution_count": null,
   "metadata": {
    "deletable": false,
    "editable": false,
    "nbgrader": {
     "checksum": "c9bb017bd211ff1d3e409de63b30a222",
     "grade": true,
     "grade_id": "cell-abe63804c50cf21b",
     "locked": true,
     "points": 5,
     "schema_version": 1,
     "solution": false
    }
   },
   "outputs": [],
   "source": [
    "def test_23_1()\n",
    "  m0 = {0 => {\"x\" => 1.0, \"y\" => 2.0}, 1 => {\"x\" => 2.0, \"y\" => 3.0}}\n",
    "  m1 = {0 => {\"x\" => 2.0, \"y\" => 2.0}, 1 => {\"x\" => 3.0, \"y\" => 4.0}}\n",
    "\n",
    "  assert_equal 0.0, cluster_dist(m0, m0)\n",
    "  assert_equal 0.0, cluster_dist(m1, m1)\n",
    "  assert_equal 1.5, cluster_dist(m0, m1)\n",
    "end\n",
    "\n",
    "test_23_1()"
   ]
  },
  {
   "cell_type": "markdown",
   "metadata": {},
   "source": [
    "## Question 2.4: (10 Points)\n",
    "\n",
    "We are now ready to complete the $k$-means clustering algorithm. Given a dataset, the number of clusters desired, $k$, and the termination condition, $\\tau$, initialize the means, update the clusters, and refine the estimates until converged. To ensure that the process terminates, stop after 100 iterations. \n",
    "\n",
    "When complete, return an array of distances from the current means to the previous means as well as the last vector of means."
   ]
  },
  {
   "cell_type": "code",
   "execution_count": null,
   "metadata": {
    "deletable": false,
    "nbgrader": {
     "checksum": "2c675e95af4c693afcf8d3a9bcdcb161",
     "grade": false,
     "grade_id": "cell-92ac307eaadf9b28",
     "locked": false,
     "schema_version": 1,
     "solution": true
    }
   },
   "outputs": [],
   "source": [
    "def k_means(data, k, tau = 0.001)\n",
    "  dists = []\n",
    "  curr_means = init_cluster(data, k)\n",
    "  100.times.each do\n",
    "    prev_means = curr_means\n",
    "    z = assign_cluster(data, prev_means)\n",
    "    curr_means = calculate_means(z, data)\n",
    "    dist = cluster_dist(prev_means, curr_means)\n",
    "    dists << dist\n",
    "  break if dist < tau\n",
    "  end\n",
    "  z = assign_cluster(data, curr_means)\n",
    "  return [dists, curr_means, z]\n",
    "end\n",
    "\n",
    "=begin\n",
    "dataset = create_cluster_dataset()\n",
    "dists, means, z = k_means dataset, 3, 0.001\n",
    "puts dists\n",
    "plot_clusters(dataset)\n",
    "=end"
   ]
  },
  {
   "cell_type": "code",
   "execution_count": null,
   "metadata": {
    "deletable": false,
    "editable": false,
    "nbgrader": {
     "checksum": "44402c30244e4fd0e5751312ebac32c5",
     "grade": true,
     "grade_id": "cell-4e1d634d3eee050f",
     "locked": true,
     "points": 10,
     "schema_version": 1,
     "solution": false
    }
   },
   "outputs": [],
   "source": [
    "def test_24_1()\n",
    "  dataset = create_cluster_dataset()    \n",
    "  dists, means, z = k_means dataset, 3, 0.001\n",
    "  \n",
    "  assert_true(dists.size > 3)\n",
    "  assert_true(dists[1] < dists[0])\n",
    "  assert_true(dists[-1] < dists[1])\n",
    "  assert_true(dists.last <= 0.001)\n",
    "  iters = Array.new(dists.size) {|i| i }\n",
    "  df = Daru::DataFrame.new({iters: iters, dists: dists})\n",
    "  df.plot(type: :line, x: :iters, y: :dists) do |plot, diagram|\n",
    "    plot.x_label \"X\"\n",
    "    plot.y_label \"Mean Dist\"\n",
    "    diagram.title \"Cluster Convergence\"\n",
    "    plot.legend false\n",
    "  end\n",
    "end\n",
    "\n",
    "test_24_1()"
   ]
  },
  {
   "cell_type": "markdown",
   "metadata": {
    "deletable": false,
    "editable": false,
    "nbgrader": {
     "checksum": "2179ad8f3163a3d112d6830c301f101f",
     "grade": false,
     "grade_id": "cell-bf3b133c97e102b1",
     "locked": true,
     "schema_version": 1,
     "solution": false
    }
   },
   "source": [
    "## Question 2.5 (15 points)\n",
    "Plot the clusters that result for $k = 3, 5, 6, 10, 20$ clusters."
   ]
  },
  {
   "cell_type": "code",
   "execution_count": null,
   "metadata": {
    "deletable": false,
    "editable": false,
    "nbgrader": {
     "checksum": "b461ecf11e4b66184e4a65a69bf6c5a1",
     "grade": true,
     "grade_id": "cell-cc692e56ba45c1d7",
     "locked": true,
     "points": 3,
     "schema_version": 1,
     "solution": false
    }
   },
   "outputs": [],
   "source": [
    "def test_25_1(k)\n",
    "  dataset = create_cluster_dataset()    \n",
    "  dists, means, z = k_means dataset, k, 0.001\n",
    "  \n",
    "  assert_equal(k, means.size)\n",
    "  assert_true(dists.size > 3)\n",
    "  assert_true(dists[1] < dists[0])\n",
    "  assert_true(dists[-1] < dists[1])\n",
    "  assert_true(dists.last <= 0.001)\n",
    "  iters = Array.new(dists.size) {|i| i }\n",
    "  plot_clusters(dataset)\n",
    "end\n",
    "\n",
    "test_25_1(3)"
   ]
  },
  {
   "cell_type": "code",
   "execution_count": null,
   "metadata": {
    "deletable": false,
    "editable": false,
    "nbgrader": {
     "checksum": "25c124b6dfcbdec11dcf01c6f0278af9",
     "grade": true,
     "grade_id": "cell-6ed65b7a4cf777eb",
     "locked": true,
     "points": 3,
     "schema_version": 1,
     "solution": false
    }
   },
   "outputs": [],
   "source": [
    "test_25_1(5)"
   ]
  },
  {
   "cell_type": "code",
   "execution_count": null,
   "metadata": {
    "deletable": false,
    "editable": false,
    "nbgrader": {
     "checksum": "b72d49f6ba7df691012770ceb4835d75",
     "grade": true,
     "grade_id": "cell-a28d8170d846f35c",
     "locked": true,
     "points": 3,
     "schema_version": 1,
     "solution": false
    }
   },
   "outputs": [],
   "source": [
    "test_25_1(6)"
   ]
  },
  {
   "cell_type": "code",
   "execution_count": null,
   "metadata": {
    "deletable": false,
    "editable": false,
    "nbgrader": {
     "checksum": "e31d0435c05e36c62c95a1a779e8be59",
     "grade": true,
     "grade_id": "cell-6b0aa8259e513e3a",
     "locked": true,
     "points": 3,
     "schema_version": 1,
     "solution": false
    }
   },
   "outputs": [],
   "source": [
    "test_25_1(10)"
   ]
  },
  {
   "cell_type": "code",
   "execution_count": null,
   "metadata": {
    "deletable": false,
    "editable": false,
    "nbgrader": {
     "checksum": "c221c8754009f6752ea4b90499a2d8e2",
     "grade": true,
     "grade_id": "cell-686a77c7a91acdb9",
     "locked": true,
     "points": 3,
     "schema_version": 1,
     "solution": false
    }
   },
   "outputs": [],
   "source": [
    "test_25_1(20)"
   ]
  },
  {
   "cell_type": "markdown",
   "metadata": {
    "deletable": false,
    "editable": false,
    "nbgrader": {
     "checksum": "f6a1cd24589f7f3d4df5e635ced9bc1b",
     "grade": false,
     "grade_id": "cell-77c1daf2de573cc3",
     "locked": true,
     "schema_version": 1,
     "solution": false
    }
   },
   "source": [
    "## Question 2.6 (5 points)\n",
    "\n",
    "Answer some questions about clustering. \n",
    "\n",
    "1. Which of cluster values fit the data best (visually)\n",
    " * (A) $k = 3$\n",
    " * (B) $k = 5$\n",
    " * (C) $k = 6$\n",
    " * (D) $k = 10$\n",
    " * (D) $k = 20$ \n",
    "1. When you set $k$ to a higher value than the ideal number of clusters what happens?\n",
    " * (A) Algorithm terminates because ideal number of clusters is a required argument\n",
    " * (B) All clusters except the ideal number are set to zero\n",
    " * (C) Clusters are split into smaller pieces\n",
    " * (D) Clusters are regularized out\n",
    "1. Go back and try running the clusterings again. You may see that the obtained clusters are different in a few runs. Why? Is $k$-means is sensitive to the initialization?\n",
    " * (A) No, it is because the data is being randomly re-generated each time\n",
    " * (B) Yes, but only when $k$ is more than the ideal number of clusters\n",
    " * (C) No, $k$-means is a convex optimization problem and therefore insensitive to starting point\n",
    " * (D) Yes, it is sensitive to the initially guessed means\n",
    "1. As discussed in the lecture, which of the following captures the biggest difference between $k$-means and the EM-algorithm for gaussian mixture models (with unit variance)?\n",
    " * (A) In the EM-algorithm, the $z$ vector is a probability and not just 0 or 1\n",
    " * (B) In the EM-algorithm, the means are selected from a normal distribution rather than a uniform distribution\n",
    " * (C) The K-means algorithm has no E step or M step, but EM has both \n",
    " * (D) No difference, the algorithms are the same\n",
    "1. Which datasets are well-suited to $k$-means clustering?\n",
    " * (A) All datasets, $k$-means is a low-bias algorithm\n",
    " * (B) High-dimensional, sparse vectors with multi-modal normal distributions\n",
    " * (C) Low-dimensional, dense vectors with multi-modal normal distributions\n",
    " * (D) Only toy datasets like those in this assignment\n",
    " \n",
    " \n",
    "If your answers were all A, A, A, A, A, then write the following:\n",
    "\n",
    "```ruby\n",
    "def answer_51()\n",
    "  answers = [\"A\", \"A\", \"A\", \"A\", \"A\"]\n",
    "  return answers\n",
    "end\n",
    "```"
   ]
  },
  {
   "cell_type": "code",
   "execution_count": null,
   "metadata": {
    "deletable": false,
    "nbgrader": {
     "checksum": "62797338c3da35cc46bf416ef211501e",
     "grade": false,
     "grade_id": "cell-90a0ff1dc7e47bb7",
     "locked": false,
     "schema_version": 1,
     "solution": true
    }
   },
   "outputs": [],
   "source": [
    "def answer_26()\n",
    "  [\"B\", \"C\", \"D\", \"A\", \"C\"]\n",
    "end"
   ]
  },
  {
   "cell_type": "code",
   "execution_count": null,
   "metadata": {
    "deletable": false,
    "editable": false,
    "nbgrader": {
     "checksum": "6628ae0873a68e01da12a1c3950e61cd",
     "grade": true,
     "grade_id": "cell-769dbf6d94ea8044",
     "locked": true,
     "points": 5,
     "schema_version": 1,
     "solution": false
    }
   },
   "outputs": [],
   "source": [
    "t_answers = answer_26()\n",
    "\n",
    "assert_not_nil t_answers, \"1\"\n",
    "assert_true(t_answers.is_a?(Array))\n",
    "assert_equal(5, t_answers.size)\n",
    "assert_true(t_answers.all? {|a| a.size == 1 and a =~ /[A-Z]/})\n"
   ]
  },
  {
   "cell_type": "code",
   "execution_count": null,
   "metadata": {},
   "outputs": [],
   "source": []
  }
 ],
 "metadata": {
  "kernelspec": {
   "display_name": "Ruby 2.5.1",
   "language": "ruby",
   "name": "ruby"
  },
  "language_info": {
   "file_extension": ".rb",
   "mimetype": "application/x-ruby",
   "name": "ruby",
   "version": "2.5.1"
  }
 },
 "nbformat": 4,
 "nbformat_minor": 2
}
