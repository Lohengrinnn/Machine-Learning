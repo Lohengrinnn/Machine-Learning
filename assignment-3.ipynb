{
 "cells": [
  {
   "cell_type": "markdown",
   "metadata": {},
   "source": [
    "# CS6140 Assignments\n",
    "\n",
    "**Instructions**\n",
    "1. In each assignment cell, look for the block:\n",
    " ```\n",
    "  #BEGIN YOUR CODE\n",
    "  raise NotImplementedError.new()\n",
    "  #END YOUR CODE\n",
    " ```\n",
    "1. Replace this block with your solution.\n",
    "1. Test your solution by running the cells following your block (indicated by ##TEST##)\n",
    "1. Click the \"Validate\" button above to validate the work.\n",
    "\n",
    "**Notes**\n",
    "* You may add other cells and functions as needed\n",
    "* Keep all code in the same notebook\n",
    "* In order to receive credit, code must \"Validate\" on the JupyterHub server\n",
    "\n",
    "---"
   ]
  },
  {
   "cell_type": "code",
   "execution_count": null,
   "metadata": {},
   "outputs": [],
   "source": []
  },
  {
   "cell_type": "markdown",
   "metadata": {},
   "source": [
    "# Assignment 3: Gradient Descent and Maximum Likelihood"
   ]
  },
  {
   "cell_type": "code",
   "execution_count": 10,
   "metadata": {},
   "outputs": [
    {
     "data": {
      "application/javascript": [
       "if(window['d3'] === undefined ||\n",
       "   window['Nyaplot'] === undefined){\n",
       "    var path = {\"d3\":\"https://cdnjs.cloudflare.com/ajax/libs/d3/3.5.5/d3.min\",\"downloadable\":\"http://cdn.rawgit.com/domitry/d3-downloadable/master/d3-downloadable\"};\n",
       "\n",
       "\n",
       "\n",
       "    var shim = {\"d3\":{\"exports\":\"d3\"},\"downloadable\":{\"exports\":\"downloadable\"}};\n",
       "\n",
       "    require.config({paths: path, shim:shim});\n",
       "\n",
       "\n",
       "require(['d3'], function(d3){window['d3']=d3;console.log('finished loading d3');require(['downloadable'], function(downloadable){window['downloadable']=downloadable;console.log('finished loading downloadable');\n",
       "\n",
       "\tvar script = d3.select(\"head\")\n",
       "\t    .append(\"script\")\n",
       "\t    .attr(\"src\", \"http://cdn.rawgit.com/domitry/Nyaplotjs/master/release/nyaplot.js\")\n",
       "\t    .attr(\"async\", true);\n",
       "\n",
       "\tscript[0][0].onload = script[0][0].onreadystatechange = function(){\n",
       "\n",
       "\n",
       "\t    var event = document.createEvent(\"HTMLEvents\");\n",
       "\t    event.initEvent(\"load_nyaplot\",false,false);\n",
       "\t    window.dispatchEvent(event);\n",
       "\t    console.log('Finished loading Nyaplotjs');\n",
       "\n",
       "\t};\n",
       "\n",
       "\n",
       "});});\n",
       "}\n"
      ],
      "text/plain": [
       "\"if(window['d3'] === undefined ||\\n   window['Nyaplot'] === undefined){\\n    var path = {\\\"d3\\\":\\\"https://cdnjs.cloudflare.com/ajax/libs/d3/3.5.5/d3.min\\\",\\\"downloadable\\\":\\\"http://cdn.rawgit.com/domitry/d3-downloadable/master/d3-downloadable\\\"};\\n\\n\\n\\n    var shim = {\\\"d3\\\":{\\\"exports\\\":\\\"d3\\\"},\\\"downloadable\\\":{\\\"exports\\\":\\\"downloadable\\\"}};\\n\\n    require.config({paths: path, shim:shim});\\n\\n\\nrequire(['d3'], function(d3){window['d3']=d3;console.log('finished loading d3');require(['downloadable'], function(downloadable){window['downloadable']=downloadable;console.log('finished loading downloadable');\\n\\n\\tvar script = d3.select(\\\"head\\\")\\n\\t    .append(\\\"script\\\")\\n\\t    .attr(\\\"src\\\", \\\"http://cdn.rawgit.com/domitry/Nyaplotjs/master/release/nyaplot.js\\\")\\n\\t    .attr(\\\"async\\\", true);\\n\\n\\tscript[0][0].onload = script[0][0].onreadystatechange = function(){\\n\\n\\n\\t    var event = document.createEvent(\\\"HTMLEvents\\\");\\n\\t    event.initEvent(\\\"load_nyaplot\\\",false,false);\\n\\t    window.dispatchEvent(event);\\n\\t    console.log('Finished loading Nyaplotjs');\\n\\n\\t};\\n\\n\\n});});\\n}\\n\""
      ]
     },
     "metadata": {},
     "output_type": "display_data"
    },
    {
     "data": {
      "text/plain": [
       "true"
      ]
     },
     "execution_count": 10,
     "metadata": {},
     "output_type": "execute_result"
    }
   ],
   "source": [
    "require './assignment_lib'"
   ]
  },
  {
   "cell_type": "markdown",
   "metadata": {},
   "source": [
    "## Question 1.1 (5 points)\n",
    "\n",
    "Let's implement a test function for the gradient descent optimizer, a 3D simple parabola. All gradient-optimized trainers are implemented as a objective function. The follow the same basic pattern:\n",
    "\n",
    "```ruby\n",
    "class MyGradientLearnableModel\n",
    "  def func x, w\n",
    "    #Returns the value of the objective function, \n",
    "    #  summing across all examples in x\n",
    "  end\n",
    "  def grad x, w\n",
    "    #Returns a hash of derivative values for each variable in w,\n",
    "    # gradient is summed across all examples in x\n",
    "    dw = {\"0\" => (w[\"0\"] - 1), \"1\" => (w[\"1\"] - 2)}\n",
    "  end\n",
    "  def adjust w\n",
    "    # Applies any problem-specific alterations to w\n",
    "  end\n",
    "end\n",
    "```\n",
    "\n",
    "Now, let's implement a Parabola objective function which does not depend on the data at all. It is defined as follows:\n",
    "\n",
    "### $L(w) = \\frac{1}{2}\\left( \\left(w_{0} - 1\\right)^2 + \\left(w_{1} - 2\\right)^2 \\right)$\n",
    "\n",
    "Implement the ```func``` method for the loss function, $L(w)$. \n",
    "\n",
    "**Note**: The data, i.e., ```x``` is not actually used in this objective function. Other objective functions may use ```x```. "
   ]
  },
  {
   "cell_type": "code",
   "execution_count": 11,
   "metadata": {
    "deletable": false,
    "nbgrader": {
     "checksum": "54115f66272f6d5339cda445dcca261d",
     "grade": false,
     "grade_id": "cell-f52748ce9cfc537f",
     "locked": false,
     "schema_version": 1,
     "solution": true
    }
   },
   "outputs": [
    {
     "data": {
      "text/plain": [
       ":adjust"
      ]
     },
     "execution_count": 11,
     "metadata": {},
     "output_type": "execute_result"
    }
   ],
   "source": [
    "class ParabolaObjective\n",
    "  def func x, w\n",
    "    # BEGIN YOUR CODE\n",
    "    ((w[\"0\"] - 1) ** 2 + (w[\"1\"] - 2) ** 2) / 2\n",
    "    #END YOUR CODE\n",
    "  end\n",
    "  def adjust w\n",
    "  end\n",
    "end"
   ]
  },
  {
   "cell_type": "code",
   "execution_count": 12,
   "metadata": {
    "deletable": false,
    "editable": false,
    "nbgrader": {
     "checksum": "f4ac4ef8ff6b09de9799e7aada958998",
     "grade": true,
     "grade_id": "cell-91665d329bcaad34",
     "locked": true,
     "points": 5,
     "schema_version": 1,
     "solution": false
    }
   },
   "outputs": [],
   "source": [
    "### TESTS ###\n",
    "t1 = ParabolaObjective.new\n",
    "assert_in_delta(0.0, t1.func([], {\"0\" => 1.0, \"1\" => 2.0}), 1e-3)\n",
    "assert_in_delta(0.5, t1.func([], {\"0\" => 1.0, \"1\" => 1.0}), 1e-3)\n",
    "assert_in_delta(0.5, t1.func([], {\"0\" => 1.0, \"1\" => 3.0}), 1e-3)\n",
    "assert_in_delta(2.5, t1.func([], {\"0\" => 3.0, \"1\" => 1.0}), 1e-3)"
   ]
  },
  {
   "cell_type": "markdown",
   "metadata": {},
   "source": [
    "## Question 1.2 (5 Points)\n",
    "\n",
    "Implement the gradient function for $L(w)$. It evaluates the gradient for the value of $x$ for each dimension of $w$. In this simple case, $L(w)$ does not depend on $x$."
   ]
  },
  {
   "cell_type": "code",
   "execution_count": 13,
   "metadata": {
    "deletable": false,
    "nbgrader": {
     "checksum": "336415156704e9b2ea16ae3940b2e032",
     "grade": false,
     "grade_id": "cell-b5c9699ed1ed88fa",
     "locked": false,
     "schema_version": 1,
     "solution": true
    }
   },
   "outputs": [
    {
     "data": {
      "text/plain": [
       ":grad"
      ]
     },
     "execution_count": 13,
     "metadata": {},
     "output_type": "execute_result"
    }
   ],
   "source": [
    "class ParabolaObjective\n",
    "  def grad x, w\n",
    "    # BEGIN YOUR CODE\n",
    "    {\"0\" => w[\"0\"] - 1, \"1\" => w[\"1\"] - 2}\n",
    "    #END YOUR CODE\n",
    "  end\n",
    "end"
   ]
  },
  {
   "cell_type": "code",
   "execution_count": 14,
   "metadata": {
    "deletable": false,
    "editable": false,
    "nbgrader": {
     "checksum": "e9b03b5652d757511bb12c6642715b2d",
     "grade": true,
     "grade_id": "cell-aaa3cd8bce5fe79b",
     "locked": true,
     "points": 5,
     "schema_version": 1,
     "solution": false
    }
   },
   "outputs": [],
   "source": [
    "### TESTS ###\n",
    "t2 = ParabolaObjective.new\n",
    "w2_1 = t2.grad([], {\"0\" => 3.0, \"1\" => 7.0})\n",
    "assert_in_delta(2.0, w2_1[\"0\"], 1e-3)\n",
    "assert_in_delta(5.0, w2_1[\"1\"], 1e-3)\n",
    "\n",
    "w2_2 = t2.grad([], {\"0\" => -3.0, \"1\" => -7.0})\n",
    "assert_in_delta(-4.0, w2_2[\"0\"], 1e-3)\n",
    "assert_in_delta(-9.0, w2_2[\"1\"], 1e-3)\n"
   ]
  },
  {
   "cell_type": "markdown",
   "metadata": {},
   "source": [
    "## Question 2.1 (1 Point)\n",
    "\n",
    "\n",
    "Implement gradient descent for any objective function class. Your function must provide a callback which we will use to monitor its performance and possibly to halt execution. A simple example illustrating the callback is as follows:\n",
    "\n",
    "```ruby\n",
    "def gradient_descent_example dataset, w, obj, learning_rate, tol, max_iter, &block\n",
    "    iter = 1\n",
    "    until converged(last_loss, current_loss) do\n",
    "        w_last = w\n",
    "        loss = calc_loss(w)\n",
    "        w = update(w)\n",
    "        w = adjust(w)\n",
    "        iter += 1\n",
    "        break unless yield w, iter, loss\n",
    "    end\n",
    "    \n",
    "    return w\n",
    "end\n",
    "\n",
    "```\n",
    "\n",
    "There are three main parts to the algorithm above:\n",
    "1. Convergence is based on the absolute difference between the loss of the current and previoud iteration.\n",
    "1. The norm can be calculated as the dot product of two vectors: $||w|| = w \\cdot w$\n",
    "1. Once the loss and gradient functions are calculated, we will update the values of each weight\n",
    "\n",
    "### Implement dot product\n",
    "In this first part, implement the dot product. The dot product below should be for sparse vectors. Use ```has_key?``` to skip entries in vector ```w``` not present in ```x```."
   ]
  },
  {
   "cell_type": "code",
   "execution_count": 15,
   "metadata": {
    "deletable": false,
    "nbgrader": {
     "checksum": "cd831dd58d1fca904a54df797cbaf64b",
     "grade": false,
     "grade_id": "cell-7af25ba96bfb8ab2",
     "locked": false,
     "schema_version": 1,
     "solution": true
    }
   },
   "outputs": [
    {
     "data": {
      "text/plain": [
       ":dot"
      ]
     },
     "execution_count": 15,
     "metadata": {},
     "output_type": "execute_result"
    }
   ],
   "source": [
    "#Implement the error function given a weight vector, w\n",
    "def dot x, w\n",
    "  # BEGIN YOUR CODE\n",
    "  w.keys.inject(0.0) {|res, k| if x.key?(k) then res += x[k] * w[k] else res end}\n",
    "  #END YOUR CODE\n",
    "end\n"
   ]
  },
  {
   "cell_type": "code",
   "execution_count": 16,
   "metadata": {
    "deletable": false,
    "editable": false,
    "nbgrader": {
     "checksum": "729b2f04141c6e728d5a50c168864202",
     "grade": true,
     "grade_id": "cell-6e56a41a0ad960bf",
     "locked": true,
     "points": 1,
     "schema_version": 1,
     "solution": false
    }
   },
   "outputs": [],
   "source": [
    "### TEST ###\n",
    "assert_in_delta 6.0, dot({\"a\" => 2.0}, {\"a\" => 3.0}), 1e-6\n",
    "assert_in_delta 6.0, dot({\"a\" => 2.0}, {\"a\" => 3.0, \"b\" => 4.0}), 1e-6\n",
    "assert_equal 0.0, dot({}, {})\n",
    "assert_equal 0.0, dot({\"a\" => 1.0}, {\"b\" => 1.0})"
   ]
  },
  {
   "cell_type": "markdown",
   "metadata": {},
   "source": [
    "## Question 2.2 (1 Point)\n",
    "Implement the L2 norm for a vector, i.e., $\\left \\lVert x \\right \\rVert$, when represented by a hash. Hint: use ```dot``` and don't forget the square root."
   ]
  },
  {
   "cell_type": "code",
   "execution_count": 17,
   "metadata": {
    "deletable": false,
    "nbgrader": {
     "checksum": "87e05e64c2e89f801ccf85a4b394f421",
     "grade": false,
     "grade_id": "cell-4b9adf1cdcc42b60",
     "locked": false,
     "schema_version": 1,
     "solution": true
    }
   },
   "outputs": [
    {
     "data": {
      "text/plain": [
       ":norm"
      ]
     },
     "execution_count": 17,
     "metadata": {},
     "output_type": "execute_result"
    }
   ],
   "source": [
    "def norm w\n",
    "  # BEGIN YOUR CODE\n",
    "  Math.sqrt(dot(w, w))\n",
    "  #END YOUR CODE\n",
    "end"
   ]
  },
  {
   "cell_type": "code",
   "execution_count": 18,
   "metadata": {
    "deletable": false,
    "editable": false,
    "nbgrader": {
     "checksum": "9c875d2607666516fcc6e381176393f8",
     "grade": true,
     "grade_id": "cell-6732c7d27e4f664a",
     "locked": true,
     "points": 1,
     "schema_version": 1,
     "solution": false
    }
   },
   "outputs": [],
   "source": [
    "### TEST ###\n",
    "assert_in_delta 2.0, norm({\"a\" => 1.41421, \"b\" => 1.41421}), 1e-2\n",
    "assert_in_delta 2.0, norm({\"a\" => -1.41421, \"b\" => 1.41421}), 1e-2\n",
    "assert_in_delta 0.0, norm({}), 1e-2"
   ]
  },
  {
   "cell_type": "markdown",
   "metadata": {},
   "source": [
    "## Question 2.3 (3 points)\n",
    "Implement a function that updates a weight vector, ```w```, given a gradient vector, ```dw```, and learning rate, ```lr```.  Do not change the original weight vector. Hint: use ```clone```."
   ]
  },
  {
   "cell_type": "code",
   "execution_count": 19,
   "metadata": {
    "deletable": false,
    "nbgrader": {
     "checksum": "a759dd69710e353e41a8435530c516cd",
     "grade": false,
     "grade_id": "cell-7353e3fd009c70fd",
     "locked": false,
     "schema_version": 1,
     "solution": true
    }
   },
   "outputs": [
    {
     "data": {
      "text/plain": [
       ":update_weights"
      ]
     },
     "execution_count": 19,
     "metadata": {},
     "output_type": "execute_result"
    }
   ],
   "source": [
    "def update_weights(w, dw, lr)\n",
    "  # BEGIN YOUR CODE\n",
    "  wc = w.clone\n",
    "  wc.keys.each {|key| wc[key] -= lr * dw[key]}\n",
    "  wc\n",
    "  #END YOUR CODE\n",
    "end"
   ]
  },
  {
   "cell_type": "code",
   "execution_count": 20,
   "metadata": {
    "deletable": false,
    "editable": false,
    "nbgrader": {
     "checksum": "35238b8fa6c3aab46d461bb48957817e",
     "grade": true,
     "grade_id": "cell-7890d2e9cc768dbc",
     "locked": true,
     "points": 3,
     "schema_version": 1,
     "solution": false
    }
   },
   "outputs": [],
   "source": [
    "### TEST ###\n",
    "assert_in_delta 1.5, update_weights({\"a\" => 1.0}, {\"a\" => -0.25}, 2.0)[\"a\"], 1e-2\n",
    "assert_in_delta 2.5, update_weights({\"a\" => 1.0, \"b\" => 3.0}, {\"a\" => -0.25, \"b\" => 0.25}, 2.0)[\"b\"], 1e-2"
   ]
  },
  {
   "cell_type": "markdown",
   "metadata": {},
   "source": [
    "## Question 2.4 (15 Points)\n",
    "\n",
    "Now, put all these functions together to implement gradient descent. This function takes the ```dataset``` and calls the function and gradient on all the examples. Hint: Increment ```iter``` before calling ```yield```."
   ]
  },
  {
   "cell_type": "code",
   "execution_count": 21,
   "metadata": {
    "deletable": false,
    "nbgrader": {
     "checksum": "bd9bf72182964e413bb3974d81e358fe",
     "grade": false,
     "grade_id": "cell-54768dfb34dacd23",
     "locked": false,
     "schema_version": 1,
     "solution": true
    }
   },
   "outputs": [
    {
     "data": {
      "text/plain": [
       ":gradient_descent"
      ]
     },
     "execution_count": 21,
     "metadata": {},
     "output_type": "execute_result"
    }
   ],
   "source": [
    "def gradient_descent dataset, w, obj, learning_rate, tol, max_iter, &block\n",
    "  iter = 0\n",
    "  examples = dataset[\"data\"]\n",
    "  # BEGIN YOUR CODE\n",
    "  loss = obj.func(examples, w)\n",
    "  while iter < max_iter do\n",
    "    w = update_weights(w, obj.grad(examples, w), learning_rate)\n",
    "    obj.adjust(w)\n",
    "    last_loss = loss\n",
    "    loss = obj.func(examples, w)\n",
    "    iter += 1\n",
    "    yield w, iter, loss\n",
    "    break if (last_loss - loss).abs < tol\n",
    "  end\n",
    "  #END YOUR CODE\n",
    "  return w\n",
    "end"
   ]
  },
  {
   "cell_type": "code",
   "execution_count": 22,
   "metadata": {
    "deletable": false,
    "editable": false,
    "nbgrader": {
     "checksum": "ec458221cdd59bb7bf14ab35906c4d4b",
     "grade": true,
     "grade_id": "cell-e54d5e8595d96ad4",
     "locked": true,
     "points": 5,
     "schema_version": 1,
     "solution": false
    }
   },
   "outputs": [],
   "source": [
    "### TESTS ###\n",
    "\n",
    "t4 = ParabolaObjective.new\n",
    "t4_w_init = {\"0\" => 3.0, \"1\" => 7.0}\n",
    "t4_w_goal = {\"0\" => 1.0, \"1\" => 2.0}\n",
    "t4_dataset = {\"data\" => []}\n",
    "\n",
    "t4_loss = 1.0\n",
    "t4_w = nil\n",
    "gradient_descent t4_dataset, t4_w_init, t4, 0.1, 0.001, 100 do |w, iter, loss|\n",
    "  t4_loss = loss\n",
    "  t4_w = w\n",
    "end\n",
    "\n",
    "assert_in_delta 0.01, t4_loss, 1e-2\n",
    "assert_in_delta 1.0, t4_w[\"0\"], 1e-1\n",
    "assert_in_delta 2.0, t4_w[\"1\"], 1e-1"
   ]
  },
  {
   "cell_type": "code",
   "execution_count": 23,
   "metadata": {
    "deletable": false,
    "editable": false,
    "nbgrader": {
     "checksum": "8815332ed062dfb1962b2cb26c92e51f",
     "grade": true,
     "grade_id": "cell-208aaf7c7bf7b770",
     "locked": true,
     "points": 10,
     "schema_version": 1,
     "solution": false
    }
   },
   "outputs": [],
   "source": [
    "### TEST ###\n",
    "t4 = ParabolaObjective.new\n",
    "t4_w_init = {\"0\" => 3.0, \"1\" => 7.0}\n",
    "t4_data = {\"data\" => []}\n",
    "\n",
    "t4_total_loss = 0.0\n",
    "t4_iterations = []\n",
    "t4_losses = []\n",
    "gradient_descent t4_data, t4_w_init, t4, 0.1, 0.001, 100 do |w, iter, loss|\n",
    "  t4_total_loss += loss\n",
    "  t4_iterations << iter\n",
    "  assert_true(iter > 0, \"Make sure to increment 'iter' before calling 'yield'\")\n",
    "  t4_losses << t4_total_loss / iter\n",
    "end\n",
    "\n",
    "assert_true(t4_iterations.size > 30)\n",
    "assert_true(t4_losses[-1] < 3)\n",
    "assert_true(t4_losses[-1] > 0)\n",
    "assert_true(t4_iterations[-1] > 30)"
   ]
  },
  {
   "cell_type": "code",
   "execution_count": 24,
   "metadata": {},
   "outputs": [
    {
     "data": {
      "text/html": [
       "<div id='vis-cbe7e2cc-1734-43d2-820d-979566f6f3f3'></div>\n",
       "<script>\n",
       "(function(){\n",
       "    var render = function(){\n",
       "        var model = {\"panes\":[{\"diagrams\":[{\"type\":\"line\",\"options\":{\"x\":\"x\",\"y\":\"y\"},\"data\":\"303f1077-3196-4fe6-ae6c-e1be38612fd3\"}],\"options\":{\"x_label\":\"Iteration\",\"y_label\":\"Cumulative Loss\",\"zoom\":true,\"width\":700,\"xrange\":[1,39],\"yrange\":[1.584592728710167,11.745]}}],\"data\":{\"303f1077-3196-4fe6-ae6c-e1be38612fd3\":[{\"x\":1,\"y\":11.745},{\"x\":2,\"y\":10.629224999999998},{\"x\":3,\"y\":9.654781499999999},{\"x\":4,\"y\":8.801529761249999},{\"x\":5,\"y\":8.052391285289998},{\"x\":6,\"y\":7.392864117570748},{\"x\":7,\"y\":6.810617087341976},{\"x\":8,\"y\":6.295149860653625},{\"x\":9,\"y\":5.83750789967061},{\"x\":10,\"y\":5.430043258859874},{\"x\":11,\"y\":5.06621367243318},{\"x\":12,\"y\":4.740413651781636},{\"x\":13,\"y\":4.4478323611782695},{\"x\":14,\"y\":4.184333911657656},{\"x\":15,\"y\":3.9463564372131876},{\"x\":16,\"y\":3.730826919508764},{\"x\":17,\"y\":3.5350892280490345},{\"x\":18,\"y\":3.356843259457511},{\"x\":19,\"y\":3.194093406467922},{\"x\":20,\"y\":3.045104876277066},{\"x\":21,\"y\":2.9083666188423076},{\"x\":22,\"y\":2.7825598266594387},{\"x\":23,\"y\":2.6665311352639653},{\"x\":24,\"y\":2.559269793748653},{\"x\":25,\"y\":2.4598881916189526},{\"x\":26,\"y\":2.3676052261647613},{\"x\":27,\"y\":2.2817320764085136},{\"x\":28,\"y\":2.201660018251936},{\"x\":29,\"y\":2.1268499728949624},{\"x\":30,\"y\":2.0568235287767553},{\"x\":31,\"y\":1.9911552177185536},{\"x\":32,\"y\":1.9294658599035275},{\"x\":33,\"y\":1.8714168208696798},{\"x\":34,\"y\":1.8167050477013689},{\"x\":35,\"y\":1.7650587718198771},{\"x\":36,\"y\":1.716233782808153},{\"x\":37,\"y\":1.6700101920725878},{\"x\":38,\"y\":1.6261896172740908},{\"x\":39,\"y\":1.584592728710167}]},\"extension\":[]}\n",
       "        var id_name = '#vis-cbe7e2cc-1734-43d2-820d-979566f6f3f3';\n",
       "        Nyaplot.core.parse(model, id_name);\n",
       "\n",
       "        require(['downloadable'], function(downloadable){\n",
       "          var svg = d3.select(id_name).select(\"svg\");\n",
       "\t  if(!svg.empty())\n",
       "\t    svg.call(downloadable().filename('fig'));\n",
       "\t});\n",
       "    };\n",
       "    if(window['Nyaplot']==undefined){\n",
       "        window.addEventListener('load_nyaplot', render, false);\n",
       "\treturn;\n",
       "    } else {\n",
       "       render();\n",
       "    }\n",
       "})();\n",
       "</script>\n"
      ],
      "text/plain": [
       "#<Nyaplot::Plot:0x0000000002ccf748 @properties={:diagrams=>[#<Nyaplot::Diagram:0x0000000002cdefb8 @properties={:type=>:line, :options=>{:x=>:x, :y=>:y}, :data=>\"303f1077-3196-4fe6-ae6c-e1be38612fd3\"}, @xrange=[1, 39], @yrange=[1.584592728710167, 11.745]>], :options=>{:x_label=>\"Iteration\", :y_label=>\"Cumulative Loss\", :zoom=>true, :width=>700, :xrange=>[1, 39], :yrange=>[1.584592728710167, 11.745]}}>"
      ]
     },
     "execution_count": 24,
     "metadata": {},
     "output_type": "execute_result"
    }
   ],
   "source": [
    "### Plot the cumulative loss per iteration\n",
    "Daru::DataFrame.new({x: t4_iterations, y: t4_losses}).plot(type: :line, x: :x, y: :y) do |plot, diagram|\n",
    "  plot.x_label \"Iteration\"\n",
    "  plot.y_label \"Cumulative Loss\"\n",
    "end"
   ]
  },
  {
   "cell_type": "markdown",
   "metadata": {},
   "source": [
    "## Question 3.1 (5 Points)\n",
    "\n",
    "Let's learn the parameter of a Bernoulli distribution using the method of maximum likelihood. Consider the following dataset in which we are tossing a biased coin with probability $\\mu$ of returning a success (1). There is an analytical solution to find this parameter $\\mu$ given a dataset of successes and trials. Compute this analytical solution. \n",
    "\n",
    "Here the ```label``` field is either 0 or 1. "
   ]
  },
  {
   "cell_type": "markdown",
   "metadata": {},
   "source": [
    "### Dataset format\n",
    "This is the format for the coin dataset. The format below will be used throughout most of the assignments. A dataset contains some extra details like the classes and names of features. The ```data``` entry is an array of examples containing ```features``` and a label. Notice that in this particular dataset, there aren't any \"features\", just a ```bias``` value."
   ]
  },
  {
   "cell_type": "code",
   "execution_count": 25,
   "metadata": {},
   "outputs": [
    {
     "name": "stdout",
     "output_type": "stream",
     "text": [
      "{\n",
      "  \"classes\": {\n",
      "  },\n",
      "  \"features\": [\n",
      "    \"x\"\n",
      "  ],\n",
      "  \"data\": [\n",
      "    {\n",
      "      \"features\": {\n",
      "        \"bias\": 1.0\n",
      "      },\n",
      "      \"label\": 1.0\n",
      "    }\n",
      "  ]\n",
      "}\n"
     ]
    }
   ],
   "source": [
    "puts JSON.pretty_generate(coin_dataset(1))"
   ]
  },
  {
   "cell_type": "code",
   "execution_count": 26,
   "metadata": {
    "deletable": false,
    "nbgrader": {
     "checksum": "908d76a78e7e78ba9a7ab1f3beed242e",
     "grade": false,
     "grade_id": "cell-5fa56022cb1d93b4",
     "locked": false,
     "schema_version": 1,
     "solution": true
    }
   },
   "outputs": [
    {
     "data": {
      "text/plain": [
       ":q31_binomial_parameter"
      ]
     },
     "execution_count": 26,
     "metadata": {},
     "output_type": "execute_result"
    }
   ],
   "source": [
    "coin_data = coin_dataset(1000)\n",
    "\n",
    "def q31_binomial_parameter(coin_data)\n",
    "  # BEGIN YOUR CODE\n",
    "  coin_data[\"data\"].inject(0.0) {|sum, d| sum += d[\"label\"]} / coin_data[\"data\"].size\n",
    "  #END YOUR CODE\n",
    "end"
   ]
  },
  {
   "cell_type": "code",
   "execution_count": 27,
   "metadata": {
    "deletable": false,
    "editable": false,
    "nbgrader": {
     "checksum": "0c9b7b7e94293f333e7c9ac657d48493",
     "grade": true,
     "grade_id": "cell-00e4a8fc6cd8141e",
     "locked": true,
     "points": 5,
     "schema_version": 1,
     "solution": false
    }
   },
   "outputs": [],
   "source": [
    "### TESTS ###\n",
    "\n",
    "t31_coin_data = coin_dataset(10000)\n",
    "assert_in_delta 0.77, q31_binomial_parameter(t31_coin_data), 5e-2"
   ]
  },
  {
   "cell_type": "markdown",
   "metadata": {},
   "source": [
    "## Question 3.2 (5 Points)\n",
    "\n",
    "Now, let's use the maximum likelihood function and gradient descent to find the same parameter value. Define the objective function for a binomial distribution for multiple samples. Remember that the ```label``` is the target value and every example has only one feature, ```bias```. Learn the weight for the ```bias``` feature should converge to $w_{bias} = \\mu$.\n",
    "\n",
    "In this first step, calculate the log likelihood function for the binomial distribution of $n$ examples."
   ]
  },
  {
   "cell_type": "code",
   "execution_count": 28,
   "metadata": {
    "deletable": false,
    "nbgrader": {
     "checksum": "537973344d496a0626033100a3d0060f",
     "grade": false,
     "grade_id": "cell-92354ef065795ab6",
     "locked": false,
     "schema_version": 1,
     "solution": true
    }
   },
   "outputs": [
    {
     "data": {
      "text/plain": [
       ":func"
      ]
     },
     "execution_count": 28,
     "metadata": {},
     "output_type": "execute_result"
    }
   ],
   "source": [
    "class BinomialModel\n",
    "  def func examples, w\n",
    "    # BEGIN YOUR CODE\n",
    "    h = examples.inject(0.0) {|sum, d| sum += d[\"label\"]}\n",
    "    t = examples.size - h\n",
    "    - h * Math.log(w[\"bias\"]) - t * Math.log(1.0 - w[\"bias\"])\n",
    "    #END YOUR CODE\n",
    "  end\n",
    "end"
   ]
  },
  {
   "cell_type": "code",
   "execution_count": 29,
   "metadata": {
    "deletable": false,
    "editable": false,
    "nbgrader": {
     "checksum": "b7eb211a6b8ebedb4c3219fe59cf8172",
     "grade": true,
     "grade_id": "cell-68cf9b7f4c38b214",
     "locked": true,
     "points": 5,
     "schema_version": 1,
     "solution": false
    }
   },
   "outputs": [],
   "source": [
    "### TEST ###\n",
    "t32_model = BinomialModel.new\n",
    "t32_t1 = {\"features\" => {\"bias\" => 1.0}, \"label\" => 0.0}\n",
    "t32_t2 = {\"features\" => {\"bias\" => 1.0}, \"label\" => 1.0}\n",
    "t32_dataset = {\n",
    "  \"data\" => [t32_t1, t32_t2]\n",
    "}\n",
    "\n",
    "assert_in_delta 1.469677, t32_model.func([t32_t1], {\"bias\" => 0.77}), 1e-3\n",
    "assert_in_delta 0.261365, t32_model.func([t32_t2], {\"bias\" => 0.77}), 1e-3\n",
    "assert_in_delta 1.731041, t32_model.func(t32_dataset[\"data\"], {\"bias\" => 0.77}), 1e-3\n"
   ]
  },
  {
   "cell_type": "markdown",
   "metadata": {},
   "source": [
    "## Question 3.3 (5 Points)\n",
    "\n",
    "Calculate the gradient of the binomial log likelihood function over $n$ examples."
   ]
  },
  {
   "cell_type": "code",
   "execution_count": 30,
   "metadata": {
    "deletable": false,
    "nbgrader": {
     "checksum": "2d49d810b64d6a0a1fd9c006508bed0d",
     "grade": false,
     "grade_id": "cell-af9a1550d76082ae",
     "locked": false,
     "schema_version": 1,
     "solution": true
    }
   },
   "outputs": [
    {
     "data": {
      "text/plain": [
       ":adjust"
      ]
     },
     "execution_count": 30,
     "metadata": {},
     "output_type": "execute_result"
    }
   ],
   "source": [
    "class BinomialModel\n",
    "  def grad examples, w\n",
    "    # BEGIN YOUR CODE\n",
    "    h = examples.inject(0.0) {|sum, d| sum += d[\"label\"]}\n",
    "    t = examples.size - h\n",
    "    g = {\"bias\" => - (h.to_f / w[\"bias\"]) + t.to_f / (1.0 - w[\"bias\"])}\n",
    "    #END YOUR CODE\n",
    "    return g\n",
    "  end\n",
    "  \n",
    "  ## Adjusts the parameter to be within the allowable range\n",
    "  def adjust w\n",
    "    w[\"bias\"] = [[0.001, w[\"bias\"]].max, 0.999].min\n",
    "  end\n",
    "end"
   ]
  },
  {
   "cell_type": "code",
   "execution_count": 31,
   "metadata": {
    "deletable": false,
    "editable": false,
    "nbgrader": {
     "checksum": "bc9f101bb22d328e59943e09873508f6",
     "grade": true,
     "grade_id": "cell-d87514aa1ef00351",
     "locked": true,
     "points": 5,
     "schema_version": 1,
     "solution": false
    }
   },
   "outputs": [],
   "source": [
    "### TEST ###\n",
    "t33_model = BinomialModel.new\n",
    "t33_t1 = {\"features\" => {\"bias\" => 1.0}, \"label\" => 0.0}\n",
    "t33_t2 = {\"features\" => {\"bias\" => 1.0}, \"label\" => 1.0}\n",
    "\n",
    "t33_dataset = {\"data\" => [t33_t1, t33_t2]}\n",
    "\n",
    "assert_in_delta 4.347826, t32_model.grad([t33_t1], {\"bias\" => 0.77})[\"bias\"], 1e-3\n",
    "assert_in_delta -1.29870, t32_model.grad([t33_t2], {\"bias\" => 0.77})[\"bias\"], 1e-3\n",
    "assert_in_delta 3.049124, t32_model.grad(t33_dataset[\"data\"], {\"bias\" => 0.77})[\"bias\"], 1e-3"
   ]
  },
  {
   "cell_type": "markdown",
   "metadata": {},
   "source": [
    "## Question 3.4 (5 Points)\n",
    "\n",
    "Putting the objective function to work, use gradient descent to find the parameter for the binomial distribution. You get to set the learning rate. Return the learning rate you have obtained which works well. You may have to try a few until you get it right.\n",
    "\n",
    "Note that, while capable of returning the same value, this method reads the data many more times than the analytical solution."
   ]
  },
  {
   "cell_type": "markdown",
   "metadata": {},
   "source": [
    "### Set the learning rate\n",
    "Here, set this function to return one number. For example, if you decide that the learning rate needs to be 1.234, implement the following. Note: 1.234 might not be the best choice.\n",
    "\n",
    "```ruby\n",
    "def q34_learning_rate\n",
    "  1.234\n",
    "end\n",
    "```"
   ]
  },
  {
   "cell_type": "code",
   "execution_count": 32,
   "metadata": {
    "deletable": false,
    "nbgrader": {
     "checksum": "9afa2f41321b339e15c344f2cc4070e5",
     "grade": false,
     "grade_id": "cell-ca57b6ffd6468fe0",
     "locked": false,
     "schema_version": 1,
     "solution": true
    }
   },
   "outputs": [
    {
     "data": {
      "text/plain": [
       ":q34_learning_rate"
      ]
     },
     "execution_count": 32,
     "metadata": {},
     "output_type": "execute_result"
    }
   ],
   "source": [
    "def q34_learning_rate\n",
    "  # BEGIN YOUR CODE\n",
    "  0.000001\n",
    "  #END YOUR CODE\n",
    "end"
   ]
  },
  {
   "cell_type": "code",
   "execution_count": 33,
   "metadata": {
    "deletable": false,
    "editable": false,
    "nbgrader": {
     "checksum": "350ee4c1ef4303ce3a95adc0bd015575",
     "grade": true,
     "grade_id": "cell-03c7000ad0157d31",
     "locked": true,
     "points": 5,
     "schema_version": 1,
     "solution": false
    }
   },
   "outputs": [
    {
     "name": "stdout",
     "output_type": "stream",
     "text": [
      "1\t{\"bias\"=>0.45068563206267753}\t\n",
      "11\t{\"bias\"=>0.5609099561246925}\t6908.0776858250465\n",
      "21\t{\"bias\"=>0.6362928549620871}\t6472.650958315244\n",
      "31\t{\"bias\"=>0.6884673488112897}\t6189.09843127745\n",
      "41\t{\"bias\"=>0.72350769991727}\t5998.5225115163985\n",
      "51\t{\"bias\"=>0.7459818648196365}\t5867.14267137865\n",
      "61\t{\"bias\"=>0.7597410676149403}\t5773.914301681059\n",
      "71\t{\"bias\"=>0.7678501774814993}\t5705.560819749182\n",
      "81\t{\"bias\"=>0.772502202252563}\t5653.770956311795\n",
      "91\t{\"bias\"=>0.7751251541756093}\t5613.338420436899\n"
     ]
    },
    {
     "data": {
      "text/html": [
       "<div id='vis-70ebbf59-f274-4bae-a303-7b6e2ed977e2'></div>\n",
       "<script>\n",
       "(function(){\n",
       "    var render = function(){\n",
       "        var model = {\"panes\":[{\"diagrams\":[{\"type\":\"line\",\"options\":{\"x\":\"x\",\"y\":\"y\"},\"data\":\"a53b9dcc-77e2-4154-9f89-5d4fefb0358f\"}],\"options\":{\"x_label\":\"Iteration\",\"y_label\":\"Cumulative Loss\",\"zoom\":true,\"width\":700,\"xrange\":[1,100],\"yrange\":[5580.949374687038,7531.3040130466015]}}],\"data\":{\"a53b9dcc-77e2-4154-9f89-5d4fefb0358f\":[{\"x\":1,\"y\":7531.3040130466015},{\"x\":2,\"y\":7445.663997616289},{\"x\":3,\"y\":7364.97481310599},{\"x\":4,\"y\":7288.795723090523},{\"x\":5,\"y\":7216.745478154638},{\"x\":6,\"y\":7148.491634383209},{\"x\":7,\"y\":7083.742207858882},{\"x\":8,\"y\":7022.239069251422},{\"x\":9,\"y\":6963.752654645166},{\"x\":10,\"y\":6908.0776858250465},{\"x\":11,\"y\":6855.02967446475},{\"x\":12,\"y\":6804.442042006682},{\"x\":13,\"y\":6756.163728158702},{\"x\":14,\"y\":6710.057190868624},{\"x\":15,\"y\":6665.996722712297},{\"x\":16,\"y\":6623.867025107165},{\"x\":17,\"y\":6583.561994198066},{\"x\":18,\"y\":6544.983681743728},{\"x\":19,\"y\":6508.041401631381},{\"x\":20,\"y\":6472.650958315244},{\"x\":21,\"y\":6438.733977912941},{\"x\":22,\"y\":6406.217326195703},{\"x\":23,\"y\":6375.032600490909},{\"x\":24,\"y\":6345.115684741657},{\"x\":25,\"y\":6316.406358760276},{\"x\":26,\"y\":6288.847954164203},{\"x\":27,\"y\":6262.387050664939},{\"x\":28,\"y\":6236.973207349243},{\"x\":29,\"y\":6212.558724389138},{\"x\":30,\"y\":6189.09843127745},{\"x\":31,\"y\":6166.549498235035},{\"x\":32,\"y\":6144.8712678954425},{\"x\":33,\"y\":6124.025104759463},{\"x\":34,\"y\":6103.974260239042},{\"x\":35,\"y\":6084.683751388244},{\"x\":36,\"y\":6066.1202516569565},{\"x\":37,\"y\":6048.251992207914},{\"x\":38,\"y\":6031.048672514853},{\"x\":39,\"y\":6014.481379114025},{\"x\":40,\"y\":5998.5225115163985},{\"x\":41,\"y\":5983.1457144067335},{\"x\":42,\"y\":5968.325815360805},{\"x\":43,\"y\":5954.038767405252},{\"x\":44,\"y\":5940.261595827493},{\"x\":45,\"y\":5926.972348717143},{\"x\":46,\"y\":5914.150050786452},{\"x\":47,\"y\":5901.774660076296},{\"x\":48,\"y\":5889.8270272069785},{\"x\":49,\"y\":5878.288856879994},{\"x\":50,\"y\":5867.14267137865},{\"x\":51,\"y\":5856.371775852412},{\"x\":52,\"y\":5845.96022520229},{\"x\":53,\"y\":5835.892792413244},{\"x\":54,\"y\":5826.154938204301},{\"x\":55,\"y\":5816.732781888647},{\"x\":56,\"y\":5807.613073354318},{\"x\":57,\"y\":5798.783166091755},{\"x\":58,\"y\":5790.230991207646},{\"x\":59,\"y\":5781.945032375334},{\"x\":60,\"y\":5773.914301681059},{\"x\":61,\"y\":5766.128316332412},{\"x\":62,\"y\":5758.577076201131},{\"x\":63,\"y\":5751.251042176691},{\"x\":64,\"y\":5744.141115310446},{\"x\":65,\"y\":5737.2386167324175},{\"x\":66,\"y\":5730.535268324424},{\"x\":67,\"y\":5724.02317413423},{\"x\":68,\"y\":5717.6948025158645},{\"x\":69,\"y\":5711.542968981378},{\"x\":70,\"y\":5705.560819749182},{\"x\":71,\"y\":5699.741815973703},{\"x\":72,\"y\":5694.079718640657},{\"x\":73,\"y\":5688.56857411167},{\"x\":74,\"y\":5683.202700301434},{\"x\":75,\"y\":5677.97667347},{\"x\":76,\"y\":5672.885315612347},{\"x\":77,\"y\":5667.923682426873},{\"x\":78,\"y\":5663.087051844129},{\"x\":79,\"y\":5658.370913096803},{\"x\":80,\"y\":5653.770956311795},{\"x\":81,\"y\":5649.28306260511},{\"x\":82,\"y\":5644.903294660293},{\"x\":83,\"y\":5640.627887771202},{\"x\":84,\"y\":5636.453241330087},{\"x\":85,\"y\":5632.375910742146},{\"x\":86,\"y\":5628.39259974806},{\"x\":87,\"y\":5624.500153136337},{\"x\":88,\"y\":5620.695549827718},{\"x\":89,\"y\":5616.975896314349},{\"x\":90,\"y\":5613.338420436899},{\"x\":91,\"y\":5609.780465483338},{\"x\":92,\"y\":5606.299484593613},{\"x\":93,\"y\":5602.8930354550175},{\"x\":94,\"y\":5599.558775273635},{\"x\":95,\"y\":5596.294456007773},{\"x\":96,\"y\":5593.097919849934},{\"x\":97,\"y\":5589.9670949443835},{\"x\":98,\"y\":5586.899991327971},{\"x\":99,\"y\":5583.8946970824545},{\"x\":100,\"y\":5580.949374687038}]},\"extension\":[]}\n",
       "        var id_name = '#vis-70ebbf59-f274-4bae-a303-7b6e2ed977e2';\n",
       "        Nyaplot.core.parse(model, id_name);\n",
       "\n",
       "        require(['downloadable'], function(downloadable){\n",
       "          var svg = d3.select(id_name).select(\"svg\");\n",
       "\t  if(!svg.empty())\n",
       "\t    svg.call(downloadable().filename('fig'));\n",
       "\t});\n",
       "    };\n",
       "    if(window['Nyaplot']==undefined){\n",
       "        window.addEventListener('load_nyaplot', render, false);\n",
       "\treturn;\n",
       "    } else {\n",
       "       render();\n",
       "    }\n",
       "})();\n",
       "</script>\n"
      ],
      "text/plain": [
       "#<Nyaplot::Plot:0x0000000002c60c58 @properties={:diagrams=>[#<Nyaplot::Diagram:0x00000000024eec68 @properties={:type=>:line, :options=>{:x=>:x, :y=>:y}, :data=>\"a53b9dcc-77e2-4154-9f89-5d4fefb0358f\"}, @xrange=[1, 100], @yrange=[5580.949374687038, 7531.3040130466015]>], :options=>{:x_label=>\"Iteration\", :y_label=>\"Cumulative Loss\", :zoom=>true, :width=>700, :xrange=>[1, 100], :yrange=>[5580.949374687038, 7531.3040130466015]}}>"
      ]
     },
     "execution_count": 33,
     "metadata": {},
     "output_type": "execute_result"
    }
   ],
   "source": [
    "### TEST ###\n",
    "t34 = BinomialModel.new\n",
    "t34_w_init = {\"bias\" => rand}\n",
    "t34_data = coin_dataset(10000)\n",
    "\n",
    "t34_learning_rate = q34_learning_rate()\n",
    "\n",
    "t34_total_loss = 0.0\n",
    "t34_iterations = []\n",
    "t34_losses = []\n",
    "t34_w = t34_w_init\n",
    "gradient_descent t34_data, t34_w_init, t34, t34_learning_rate, 0.001, 100 do |w, iter, loss|\n",
    "  puts [iter, w, t34_losses[-1]].join(\"\\t\") if iter % 10 == 1\n",
    "  t34_total_loss += loss\n",
    "  t34_iterations << iter\n",
    "  assert_true(iter > 0, \"Make sure to increment iter before calling yield\")\n",
    "  t34_losses << t34_total_loss / iter.to_f\n",
    "  t34_w = w\n",
    "end\n",
    "\n",
    "\n",
    "assert_true(t34_losses[-1] < 8000)\n",
    "assert_true(t34_losses[-1] > 0)\n",
    "assert_true(t34_iterations[-1] > 30)\n",
    "assert_in_delta 0.77, t34_w[\"bias\"], 5e-2\n",
    "\n",
    "### Plot the cumulative loss per iteration\n",
    "Daru::DataFrame.new({x: t34_iterations, y: t34_losses}).plot(type: :line, x: :x, y: :y) do |plot, diagram|\n",
    "  plot.x_label \"Iteration\"\n",
    "  plot.y_label \"Cumulative Loss\"\n",
    "end"
   ]
  },
  {
   "cell_type": "markdown",
   "metadata": {},
   "source": [
    "## Question 4.1 (10 Points)\n",
    "\n",
    "The maximum likelihood method above reads the data multiple times and can benefit from prior knowledge in the form of a prior distribution for the parameter, $\\mu$. Using the Beta distribution as the conjugate prior, implement the likelihood function and its gradient. Now we are learning three parameters altogether: $w_{bias} = \\mu$, $\\alpha$, $\\beta$.\n",
    "\n",
    "First, let's compute the closed form estimator for $\\mu$ with a fixed $\\alpha$ and $\\beta$."
   ]
  },
  {
   "cell_type": "code",
   "execution_count": 34,
   "metadata": {
    "deletable": false,
    "nbgrader": {
     "checksum": "7fe610db1d60504b6baacd8c486dcfde",
     "grade": false,
     "grade_id": "cell-97d4bb1bc5d5a0f3",
     "locked": false,
     "schema_version": 1,
     "solution": true
    }
   },
   "outputs": [
    {
     "data": {
      "text/plain": [
       ":q41_closed_form_beta_binomial"
      ]
     },
     "execution_count": 34,
     "metadata": {},
     "output_type": "execute_result"
    }
   ],
   "source": [
    "def q41_closed_form_beta_binomial(coin_data, alpha, beta)\n",
    "  # BEGIN YOUR CODE\n",
    "  alpha.to_f / (alpha + beta)\n",
    "  #END YOUR CODE\n",
    "end"
   ]
  },
  {
   "cell_type": "code",
   "execution_count": 35,
   "metadata": {
    "deletable": false,
    "editable": false,
    "nbgrader": {
     "checksum": "af6ab15034ba413fb34cf9c99f3f715f",
     "grade": true,
     "grade_id": "cell-e089341132a19f54",
     "locked": true,
     "points": 10,
     "schema_version": 1,
     "solution": false
    }
   },
   "outputs": [],
   "source": [
    "### TEST ###\n",
    "t41_coin_data = coin_dataset(10000)\n",
    "assert_in_delta 0.77, q41_closed_form_beta_binomial(t41_coin_data, 7743, 10000 - 7743), 1e-1"
   ]
  },
  {
   "cell_type": "markdown",
   "metadata": {},
   "source": [
    "## Question 4.2 (10 points)\n",
    "\n",
    "Implement the negative log likelihood function for the beta + binomial values. Checkout this [Wikipedia](https://en.wikipedia.org/wiki/Beta_distribution#Maximum_likelihood) definition of the likelihood function. Remember we are interested in he negative log likelihood.\n",
    "\n",
    "A special function is needed ```GSL::Sf::lnbeta(a, b)```."
   ]
  },
  {
   "cell_type": "code",
   "execution_count": 89,
   "metadata": {
    "deletable": false,
    "nbgrader": {
     "checksum": "ae3b18deff351186867bca1e042c1992",
     "grade": false,
     "grade_id": "cell-0c423e99f1c034e0",
     "locked": false,
     "schema_version": 1,
     "solution": true
    }
   },
   "outputs": [
    {
     "data": {
      "text/plain": [
       ":adjust"
      ]
     },
     "execution_count": 89,
     "metadata": {},
     "output_type": "execute_result"
    }
   ],
   "source": [
    "class BetaBinomialModel\n",
    "  def func dataset, w\n",
    "    # BEGIN YOUR CODE\n",
    "    h = dataset.inject(0.0) {|sum, d| sum += d[\"label\"]}\n",
    "    t = dataset.size - h\n",
    "    bin_loss = - (h * Math.log(w[\"bias\"]) + t * Math.log(1 - w[\"bias\"]))\n",
    "    beta_loss = -(w['alpha'] - 1) * Math.log(w[\"bias\"]) * (h + t) - (w['beta'] - 1) * Math.log(1 - w[\"bias\"]) * (h + t)\n",
    "    beta_loss += (h + t) * GSL::Sf::lnbeta(w['alpha'], w['beta'])\n",
    "    beta_loss + bin_loss\n",
    "    #END YOUR CODE\n",
    "  end\n",
    "  def adjust w\n",
    "    w[\"bias\"] = [[0.001, w[\"bias\"]].max, 0.999].min\n",
    "    w[\"beta\"] = [0.0001, w[\"beta\"]].max\n",
    "  end\n",
    "end"
   ]
  },
  {
   "cell_type": "code",
   "execution_count": 90,
   "metadata": {
    "deletable": false,
    "editable": false,
    "nbgrader": {
     "checksum": "18a9751dfa872fc62f990d54afd87b64",
     "grade": true,
     "grade_id": "cell-c3da75938a85ae1b",
     "locked": true,
     "points": 10,
     "schema_version": 1,
     "solution": false
    }
   },
   "outputs": [],
   "source": [
    "### TESTS ###\n",
    "\n",
    "t42 = BetaBinomialModel.new\n",
    "srand 777 #seed random number generator\n",
    "t42_data = coin_dataset(1000)[\"data\"]\n",
    "t42_w = Hash.new {|h,k| h[k] = 0.1}\n",
    "t42_w[\"alpha\"] = 7.0\n",
    "t42_w[\"beta\"] = 3.0\n",
    "\n",
    "assert_in_delta 10373.126026759332, t42.func(t42_data, t42_w), 1e-2"
   ]
  },
  {
   "cell_type": "markdown",
   "metadata": {},
   "source": [
    "## Question 4.3 (10 points)\n",
    "\n",
    "Implement the negative log likelihood gradient for all the parameters. Checkout this [Wikipedia](https://en.wikipedia.org/wiki/Beta_distribution#Maximum_likelihood) definition of the likelihood function. Remember we are interested in the negative log likelihood. The gradient for the ```bias``` requires all examples in the dataset. However, the gradient for ```alpha``` and ```beta``` does not require a pass over the dataset.\n",
    "\n",
    "A special function is needed ```GSL::Sf::psi(a + b)```."
   ]
  },
  {
   "cell_type": "code",
   "execution_count": 91,
   "metadata": {
    "deletable": false,
    "nbgrader": {
     "checksum": "17bd13df38d687cdb957a67a4a762db0",
     "grade": false,
     "grade_id": "cell-9d4f8012ea73cfa8",
     "locked": false,
     "schema_version": 1,
     "solution": true
    }
   },
   "outputs": [
    {
     "data": {
      "text/plain": [
       ":grad"
      ]
     },
     "execution_count": 91,
     "metadata": {},
     "output_type": "execute_result"
    }
   ],
   "source": [
    "class BetaBinomialModel\n",
    "  def grad dataset, w\n",
    "    # BEGIN YOUR CODE\n",
    "    n = dataset.size\n",
    "    h = dataset.inject(0.0) {|sum, d| sum += d[\"label\"]}\n",
    "    t = n - h\n",
    "    grad_bias = - (h / w[\"bias\"]) + (t / (1 - w[\"bias\"])) #- \\\n",
    "                #((w['alpha'] - 1) * n / w[\"bias\"]) + ((w['beta'] - 1) * n / (1 - w[\"bias\"]))\n",
    "    grad_alpha = (-Math.log(w[\"bias\"]) + GSL::Sf::psi(w['alpha']) - GSL::Sf::psi(w['alpha'] + w['beta']))\n",
    "    grad_beta = -Math.log(1 - w[\"bias\"]) + GSL::Sf::psi(w['beta']) - GSL::Sf::psi(w['alpha'] + w['beta'])\n",
    "    {\"bias\" => grad_bias, 'alpha' => grad_alpha, 'beta' => grad_beta }\n",
    "    #END YOUR CODE\n",
    "  end\n",
    "end"
   ]
  },
  {
   "cell_type": "code",
   "execution_count": 92,
   "metadata": {
    "deletable": false,
    "editable": false,
    "nbgrader": {
     "checksum": "25a6d3730d8f7b4dc750dbcb27184354",
     "grade": true,
     "grade_id": "cell-2752de436c18d1fd",
     "locked": true,
     "points": 10,
     "schema_version": 1,
     "solution": false
    }
   },
   "outputs": [],
   "source": [
    "### TESTS ###\n",
    "\n",
    "t43 = BetaBinomialModel.new\n",
    "srand 777 #seed random number generator\n",
    "t43_data = coin_dataset(1000)[\"data\"]\n",
    "t43_w = Hash.new {|h,k| h[k] = 0.1}\n",
    "t43_w[\"alpha\"] = 7.0\n",
    "t43_w[\"beta\"] = 3.0\n",
    "\n",
    "t43_grad = t43.grad(t43_data, t43_w)\n",
    "\n",
    "assert_in_delta -7902.2222222221935, t43_grad[\"bias\"], 1e2\n",
    "assert_in_delta 1.9236168390257913, t43_grad[\"alpha\"], 1e-1\n",
    "assert_in_delta -1.2236077383104214, t43_grad[\"beta\"], 1e-1\n"
   ]
  },
  {
   "cell_type": "markdown",
   "metadata": {},
   "source": [
    "## Question 4.4 (20 points)\n",
    "\n",
    "Run the gradient descent by selecting the initial weights and learning rate. Try a few values. "
   ]
  },
  {
   "cell_type": "code",
   "execution_count": 101,
   "metadata": {
    "deletable": false,
    "nbgrader": {
     "checksum": "706ade57f59434796197e6bd977d6a95",
     "grade": false,
     "grade_id": "cell-963091d78ac84fe4",
     "locked": false,
     "schema_version": 1,
     "solution": true
    }
   },
   "outputs": [
    {
     "data": {
      "text/plain": [
       ":q44_weights_and_learning_rate"
      ]
     },
     "execution_count": 101,
     "metadata": {},
     "output_type": "execute_result"
    }
   ],
   "source": [
    "def q44_weights_and_learning_rate\n",
    "  # BEGIN YOUR CODE\n",
    "  w = {\"bias\" => 0.7, \"alpha\" => 7.0, \"beta\" => 3.0}\n",
    "  lr = 0.000001\n",
    "  #END YOUR CODE\n",
    "  return [w, lr]\n",
    "end"
   ]
  },
  {
   "cell_type": "code",
   "execution_count": 102,
   "metadata": {
    "deletable": false,
    "editable": false,
    "nbgrader": {
     "checksum": "445d5c9fb43b646e7d49fd0774b9c231",
     "grade": true,
     "grade_id": "cell-2bf436344900b4d6",
     "locked": true,
     "points": 20,
     "schema_version": 1,
     "solution": false
    }
   },
   "outputs": [
    {
     "name": "stdout",
     "output_type": "stream",
     "text": [
      "1\t{\"bias\"=>0.7034285714285714, \"alpha\"=>7.00000002229331, \"beta\"=>3.0000001249954495}\t\n",
      "11\t{\"bias\"=>0.7306303159171054, \"alpha\"=>7.000000479857465, \"beta\"=>3.0000007995428737}\t-4622.664359011273\n",
      "21\t{\"bias\"=>0.7477114421994436, \"alpha\"=>7.000001244754276, \"beta\"=>3.000000654977622}\t-4750.80147728816\n",
      "31\t{\"bias\"=>0.7580203411936843, \"alpha\"=>7.000002194703804, \"beta\"=>2.9999999686212884}\t-4808.869970573511\n",
      "41\t{\"bias\"=>0.7640588828357077, \"alpha\"=>7.000003253254397, \"beta\"=>2.9999989447436763}\t-4833.76734172774\n",
      "51\t{\"bias\"=>0.7675256251031165, \"alpha\"=>7.000004374307956, \"beta\"=>2.9999977194379963}\t-4843.604354965482\n",
      "61\t{\"bias\"=>0.7694910732284292, \"alpha\"=>7.000005530865621, \"beta\"=>2.999996377247362}\t-4846.832262297743\n",
      "71\t{\"bias\"=>0.7705970771080332, \"alpha\"=>7.000006707427168, \"beta\"=>2.9999949683877225}\t-4847.271247350174\n",
      "81\t{\"bias\"=>0.7712167656157247, \"alpha\"=>7.0000078952046865, \"beta\"=>2.999993521885722}\t-4846.612124419471\n",
      "91\t{\"bias\"=>0.7715631201383637, \"alpha\"=>7.000009089252942, \"beta\"=>2.999992054254884}\t-4845.587940785865\n"
     ]
    },
    {
     "data": {
      "text/html": [
       "<div id='vis-d0a913e4-107d-4e80-a88a-e7dc609684c2'></div>\n",
       "<script>\n",
       "(function(){\n",
       "    var render = function(){\n",
       "        var model = {\"panes\":[{\"diagrams\":[{\"type\":\"line\",\"options\":{\"x\":\"x\",\"y\":\"y\"},\"data\":\"c25b518d-aeba-4d93-b78f-71ca5b64865c\"}],\"options\":{\"x_label\":\"Iteration\",\"y_label\":\"Cumulative Loss\",\"zoom\":true,\"width\":700,\"xrange\":[1,100],\"yrange\":[-4847.306735599903,-4390.535102611371]}}],\"data\":{\"c25b518d-aeba-4d93-b78f-71ca5b64865c\":[{\"x\":1,\"y\":-4390.535102611371},{\"x\":2,\"y\":-4424.2304664946905},{\"x\":3,\"y\":-4455.654900209754},{\"x\":4,\"y\":-4484.944837001905},{\"x\":5,\"y\":-4512.229808952402},{\"x\":6,\"y\":-4537.632721631208},{\"x\":7,\"y\":-4561.270116240328},{\"x\":8,\"y\":-4583.252421168499},{\"x\":9,\"y\":-4603.684194536572},{\"x\":10,\"y\":-4622.664359011273},{\"x\":11,\"y\":-4640.286429898429},{\"x\":12,\"y\":-4656.638737295084},{\"x\":13,\"y\":-4671.804642878789},{\"x\":14,\"y\":-4685.862751741765},{\"x\":15,\"y\":-4698.887119533539},{\"x\":16,\"y\":-4710.94745505745},{\"x\":17,\"y\":-4722.10931837096},{\"x\":18,\"y\":-4732.434314365441},{\"x\":19,\"y\":-4741.980281745385},{\"x\":20,\"y\":-4750.80147728816},{\"x\":21,\"y\":-4758.948755240843},{\"x\":22,\"y\":-4766.469741698599},{\"x\":23,\"y\":-4773.409003807471},{\"x\":24,\"y\":-4779.8082136413905},{\"x\":25,\"y\":-4785.706306617009},{\"x\":26,\"y\":-4791.139634328976},{\"x\":27,\"y\":-4796.142111711163},{\"x\":28,\"y\":-4800.745358454762},{\"x\":29,\"y\":-4804.978834640992},{\"x\":30,\"y\":-4808.869970573511},{\"x\":31,\"y\":-4812.4442908226865},{\"x\":32,\"y\":-4815.725532519988},{\"x\":33,\"y\":-4818.735757965411},{\"x\":34,\"y\":-4821.495461633707},{\"x\":35,\"y\":-4824.02367168594},{\"x\":36,\"y\":-4826.338046111327},{\"x\":37,\"y\":-4828.454963640482},{\"x\":38,\"y\":-4830.389609584858},{\"x\":39,\"y\":-4832.156056768549},{\"x\":40,\"y\":-4833.76734172774},{\"x\":41,\"y\":-4835.235536360004},{\"x\":42,\"y\":-4836.571815210588},{\"x\":43,\"y\":-4837.786518585881},{\"x\":44,\"y\":-4838.889211685683},{\"x\":45,\"y\":-4839.888739945743},{\"x\":46,\"y\":-4840.793280780614},{\"x\":47,\"y\":-4841.61039191425},{\"x\":48,\"y\":-4842.347056482194},{\"x\":49,\"y\":-4843.00972508476},{\"x\":50,\"y\":-4843.604354965482},{\"x\":51,\"y\":-4844.1364464834705},{\"x\":52,\"y\":-4844.611077042161},{\"x\":53,\"y\":-4845.032932630549},{\"x\":54,\"y\":-4845.406337126348},{\"x\":55,\"y\":-4845.735279503733},{\"x\":56,\"y\":-4846.023439081481},{\"x\":57,\"y\":-4846.274208940502},{\"x\":58,\"y\":-4846.49071763299},{\"x\":59,\"y\":-4846.6758492987465},{\"x\":60,\"y\":-4846.832262297743},{\"x\":61,\"y\":-4846.962406461642},{\"x\":62,\"y\":-4847.068539060867},{\"x\":63,\"y\":-4847.152739577941},{\"x\":64,\"y\":-4847.216923372105},{\"x\":65,\"y\":-4847.262854314833},{\"x\":66,\"y\":-4847.2921564707},{\"x\":67,\"y\":-4847.306324893133},{\"x\":68,\"y\":-4847.306735599903},{\"x\":69,\"y\":-4847.294654788856},{\"x\":70,\"y\":-4847.271247350174},{\"x\":71,\"y\":-4847.237584727552},{\"x\":72,\"y\":-4847.194652177011},{\"x\":73,\"y\":-4847.14335546859},{\"x\":74,\"y\":-4847.084527072896},{\"x\":75,\"y\":-4847.018931871526},{\"x\":76,\"y\":-4846.947272427442},{\"x\":77,\"y\":-4846.8701938488275},{\"x\":78,\"y\":-4846.788288277401},{\"x\":79,\"y\":-4846.702099029925},{\"x\":80,\"y\":-4846.612124419471},{\"x\":81,\"y\":-4846.518821281027},{\"x\":82,\"y\":-4846.422608224161},{\"x\":83,\"y\":-4846.323868633778},{\"x\":84,\"y\":-4846.2229534383705},{\"x\":85,\"y\":-4846.120183663713},{\"x\":86,\"y\":-4846.01585278856},{\"x\":87,\"y\":-4845.910228917678},{\"x\":88,\"y\":-4845.803556786318},{\"x\":89,\"y\":-4845.6960596091685},{\"x\":90,\"y\":-4845.587940785865},{\"x\":91,\"y\":-4845.479385474122},{\"x\":92,\"y\":-4845.370562040776},{\"x\":93,\"y\":-4845.261623400178},{\"x\":94,\"y\":-4845.152708248671},{\"x\":95,\"y\":-4845.043942203211},{\"x\":96,\"y\":-4844.935438851541},{\"x\":97,\"y\":-4844.827300720782},{\"x\":98,\"y\":-4844.719620170763},{\"x\":99,\"y\":-4844.612480217899},{\"x\":100,\"y\":-4844.505955295019}]},\"extension\":[]}\n",
       "        var id_name = '#vis-d0a913e4-107d-4e80-a88a-e7dc609684c2';\n",
       "        Nyaplot.core.parse(model, id_name);\n",
       "\n",
       "        require(['downloadable'], function(downloadable){\n",
       "          var svg = d3.select(id_name).select(\"svg\");\n",
       "\t  if(!svg.empty())\n",
       "\t    svg.call(downloadable().filename('fig'));\n",
       "\t});\n",
       "    };\n",
       "    if(window['Nyaplot']==undefined){\n",
       "        window.addEventListener('load_nyaplot', render, false);\n",
       "\treturn;\n",
       "    } else {\n",
       "       render();\n",
       "    }\n",
       "})();\n",
       "</script>\n"
      ],
      "text/plain": [
       "#<Nyaplot::Plot:0x00000000040cdf88 @properties={:diagrams=>[#<Nyaplot::Diagram:0x0000000003524588 @properties={:type=>:line, :options=>{:x=>:x, :y=>:y}, :data=>\"c25b518d-aeba-4d93-b78f-71ca5b64865c\"}, @xrange=[1, 100], @yrange=[-4847.306735599903, -4390.535102611371]>], :options=>{:x_label=>\"Iteration\", :y_label=>\"Cumulative Loss\", :zoom=>true, :width=>700, :xrange=>[1, 100], :yrange=>[-4847.306735599903, -4390.535102611371]}}>"
      ]
     },
     "execution_count": 102,
     "metadata": {},
     "output_type": "execute_result"
    }
   ],
   "source": [
    "### TEST ###\n",
    "t44 = BetaBinomialModel.new\n",
    "t44_data = coin_dataset(10000)\n",
    "\n",
    "t44_w_init, t44_learning_rate = q44_weights_and_learning_rate()\n",
    "\n",
    "t44_total_loss = 0.0\n",
    "t44_iterations = []\n",
    "t44_losses = []\n",
    "t44_w = t34_w_init\n",
    "gradient_descent t44_data, t44_w_init, t44, t44_learning_rate, 0.001, 100 do |w, iter, loss|\n",
    "  puts [iter, w, t44_losses[-1]].join(\"\\t\") if iter % 10 == 1\n",
    "  t44_total_loss += loss\n",
    "  t44_iterations << iter\n",
    "  t44_losses << t44_total_loss / iter.to_f\n",
    "  t44_w = w\n",
    "end\n",
    "\n",
    "\n",
    "assert_true(t44_losses[-1] < 8000)\n",
    "assert_true(t44_iterations[-1] > 30)\n",
    "assert_in_delta 0.77, t44_w[\"bias\"], 5e-2\n",
    "\n",
    "### Plot the cumulative loss per iteration\n",
    "Daru::DataFrame.new({x: t44_iterations, y: t44_losses}).plot(type: :line, x: :x, y: :y) do |plot, diagram|\n",
    "  plot.x_label \"Iteration\"\n",
    "  plot.y_label \"Cumulative Loss\"\n",
    "end"
   ]
  },
  {
   "cell_type": "code",
   "execution_count": null,
   "metadata": {},
   "outputs": [],
   "source": []
  },
  {
   "cell_type": "code",
   "execution_count": null,
   "metadata": {},
   "outputs": [],
   "source": []
  }
 ],
 "metadata": {
  "kernelspec": {
   "display_name": "Ruby 2.5.1",
   "language": "ruby",
   "name": "ruby"
  },
  "language_info": {
   "file_extension": ".rb",
   "mimetype": "application/x-ruby",
   "name": "ruby",
   "version": "2.5.1"
  }
 },
 "nbformat": 4,
 "nbformat_minor": 2
}
