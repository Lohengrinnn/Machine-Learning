{
 "cells": [
  {
   "cell_type": "markdown",
   "metadata": {},
   "source": [
    "# Gradient Descent and Maximum Likelihood"
   ]
  },
  {
   "cell_type": "markdown",
   "metadata": {},
   "source": [
    "## Question 1.1 (5 points)\n",
    "\n",
    "Let's implement a test function for the gradient descent optimizer, a 3D simple parabola. All gradient-optimized trainers are implemented as a objective function. The follow the same basic pattern:\n",
    "\n",
    "```ruby\n",
    "class MyGradientLearnableModel\n",
    "  def func x, w\n",
    "    #Returns the value of the objective function, \n",
    "    #  summing across all examples in x\n",
    "  end\n",
    "  def grad x, w\n",
    "    #Returns a hash of derivative values for each variable in w,\n",
    "    # gradient is summed across all examples in x\n",
    "    dw = {\"0\" => (w[\"0\"] - 1), \"1\" => (w[\"1\"] - 2)}\n",
    "  end\n",
    "  def adjust w\n",
    "    # Applies any problem-specific alterations to w\n",
    "  end\n",
    "end\n",
    "```\n",
    "\n",
    "Now, let's implement a Parabola objective function which does not depend on the data at all. It is defined as follows:\n",
    "\n",
    "### $L(w) = \\frac{1}{2}\\left( \\left(w_{0} - 1\\right)^2 + \\left(w_{1} - 2\\right)^2 \\right)$\n",
    "\n",
    "Implement the ```func``` method for the loss function, $L(w)$. \n",
    "\n",
    "**Note**: The data, i.e., ```x``` is not actually used in this objective function. Other objective functions may use ```x```. "
   ]
  },
  {
   "cell_type": "code",
   "execution_count": 1,
   "metadata": {},
   "outputs": [],
   "source": [
    "from lib.basic import *\n",
    "import random\n",
    "import matplotlib.pyplot as plt\n",
    "import numpy as np"
   ]
  },
  {
   "cell_type": "code",
   "execution_count": 2,
   "metadata": {},
   "outputs": [],
   "source": [
    "class ParabolaObjective:\n",
    "    def func(self, x, w):\n",
    "        return ((w[\"0\"] - 1) ** 2 + (w[\"1\"] - 2) ** 2) / 2\n",
    "\n",
    "    def adjust(self, w):\n",
    "        pass"
   ]
  },
  {
   "cell_type": "code",
   "execution_count": 3,
   "metadata": {},
   "outputs": [],
   "source": [
    "### TESTS ###\n",
    "t1 = ParabolaObjective()\n",
    "assert_in_delta(0.0, t1.func([], {\"0\": 1.0, \"1\": 2.0}), 1e-3)\n",
    "assert_in_delta(0.5, t1.func([], {\"0\": 1.0, \"1\": 1.0}), 1e-3)\n",
    "assert_in_delta(0.5, t1.func([], {\"0\": 1.0, \"1\": 3.0}), 1e-3)\n",
    "assert_in_delta(2.5, t1.func([], {\"0\": 3.0, \"1\": 1.0}), 1e-3)"
   ]
  },
  {
   "cell_type": "markdown",
   "metadata": {},
   "source": [
    "## Question 1.2 (5 Points)\n",
    "\n",
    "Implement the gradient function for $L(w)$. It evaluates the gradient for the value of $x$ for each dimension of $w$. In this simple case, $L(w)$ does not depend on $x$."
   ]
  },
  {
   "cell_type": "code",
   "execution_count": 4,
   "metadata": {},
   "outputs": [],
   "source": [
    "def grad(self, x, w):\n",
    "        return {\"0\": w[\"0\"] - 1, \"1\": w[\"1\"] - 2}\n",
    "\n",
    "# class ParabolaObjective:\n",
    "#     def grad(self, x, w):\n",
    "ParabolaObjective.grad = grad"
   ]
  },
  {
   "cell_type": "code",
   "execution_count": 5,
   "metadata": {},
   "outputs": [],
   "source": [
    "### TESTS ###\n",
    "t2 = ParabolaObjective()\n",
    "w2_1 = t2.grad([], {\"0\": 3.0, \"1\": 7.0})\n",
    "assert_in_delta(2.0, w2_1[\"0\"], 1e-3)\n",
    "assert_in_delta(5.0, w2_1[\"1\"], 1e-3)\n",
    "\n",
    "w2_2 = t2.grad([], {\"0\": -3.0, \"1\": -7.0})\n",
    "assert_in_delta(-4.0, w2_2[\"0\"], 1e-3)\n",
    "assert_in_delta(-9.0, w2_2[\"1\"], 1e-3)"
   ]
  },
  {
   "cell_type": "markdown",
   "metadata": {},
   "source": [
    "## Question 2.1 (1 Point)\n",
    "\n",
    "\n",
    "Implement gradient descent for any objective function class. Your function must provide a callback which we will use to monitor its performance and possibly to halt execution. A simple example illustrating the callback is as follows:\n",
    "\n",
    "```ruby\n",
    "def gradient_descent_example dataset, w, obj, learning_rate, tol, max_iter, &block\n",
    "    iter = 1\n",
    "    until converged(last_loss, current_loss) do\n",
    "        w_last = w\n",
    "        loss = calc_loss(w)\n",
    "        w = update(w)\n",
    "        w = adjust(w)\n",
    "        iter += 1\n",
    "        break unless yield w, iter, loss\n",
    "    end\n",
    "    \n",
    "    return w\n",
    "end\n",
    "\n",
    "```\n",
    "\n",
    "There are three main parts to the algorithm above:\n",
    "1. Convergence is based on the absolute difference between the loss of the current and previoud iteration.\n",
    "1. The norm can be calculated as the dot product of two vectors: $||w|| = w \\cdot w$\n",
    "1. Once the loss and gradient functions are calculated, we will update the values of each weight\n",
    "\n",
    "### Implement dot product\n",
    "In this first part, implement the dot product. The dot product below should be for sparse vectors. Use ```has_key?``` to skip entries in vector ```w``` not present in ```x```."
   ]
  },
  {
   "cell_type": "code",
   "execution_count": 6,
   "metadata": {},
   "outputs": [],
   "source": [
    "### TEST ###\n",
    "assert_in_delta(6.0, dot({\"a\": 2.0}, {\"a\": 3.0}), 1e-6)\n",
    "assert_in_delta(6.0, dot({\"a\": 2.0}, {\"a\": 3.0, \"b\": 4.0}), 1e-6)\n",
    "assert_equal(0.0, dot({}, {}))\n",
    "assert_equal(0.0, dot({\"a\": 1.0}, {\"b\": 1.0}))"
   ]
  },
  {
   "cell_type": "markdown",
   "metadata": {},
   "source": [
    "## Question 2.2 (1 Point)\n",
    "Implement the L2 norm for a vector, i.e., $\\left \\lVert x \\right \\rVert$, when represented by a hash. Hint: use ```dot``` and don't forget the square root."
   ]
  },
  {
   "cell_type": "code",
   "execution_count": 7,
   "metadata": {},
   "outputs": [],
   "source": [
    "### TEST ###\n",
    "assert_in_delta(2.0, norm({\"a\": 1.41421, \"b\": 1.41421}), 1e-2)\n",
    "assert_in_delta(2.0, norm({\"a\": -1.41421, \"b\": 1.41421}), 1e-2)\n",
    "assert_in_delta(0.0, norm({}), 1e-2)"
   ]
  },
  {
   "cell_type": "markdown",
   "metadata": {},
   "source": [
    "## Question 2.3 (3 points)\n",
    "Implement a function that updates a weight vector, ```w```, given a gradient vector, ```dw```, and learning rate, ```lr```.  Do not change the original weight vector. Hint: use ```clone```."
   ]
  },
  {
   "cell_type": "code",
   "execution_count": 8,
   "metadata": {},
   "outputs": [],
   "source": [
    "def update_weights(w, dw, lr):\n",
    "    wc = w.copy()\n",
    "    for key in wc:\n",
    "        wc[key] -= lr * dw[key]\n",
    "    return wc"
   ]
  },
  {
   "cell_type": "code",
   "execution_count": 9,
   "metadata": {},
   "outputs": [],
   "source": [
    "### TEST ###\n",
    "assert_in_delta(1.5, update_weights({\"a\": 1.0}, {\"a\": -0.25}, 2.0)[\"a\"], 1e-2)\n",
    "assert_in_delta(2.5, update_weights({\"a\": 1.0, \"b\": 3.0}, {\"a\": -0.25, \"b\": 0.25}, 2.0)[\"b\"], 1e-2)"
   ]
  },
  {
   "cell_type": "markdown",
   "metadata": {},
   "source": [
    "## Question 2.4 (15 Points)\n",
    "\n",
    "Now, put all these functions together to implement gradient descent. This function takes the ```dataset``` and calls the function and gradient on all the examples. Hint: Increment ```iter``` before calling ```yield```."
   ]
  },
  {
   "cell_type": "code",
   "execution_count": 10,
   "metadata": {},
   "outputs": [],
   "source": [
    "def gradient_descent(dataset, w, obj, learning_rate, tol, max_iter, call_back):\n",
    "    i = 0\n",
    "    examples = dataset[\"data\"]\n",
    "    loss = obj.func(examples, w)\n",
    "    while i < max_iter:\n",
    "        w = update_weights(w, obj.grad(examples, w), learning_rate)\n",
    "        obj.adjust(w)\n",
    "        last_loss = loss\n",
    "        loss = obj.func(examples, w)\n",
    "        i += 1\n",
    "        call_back(w, i, loss)\n",
    "        if abs(last_loss - loss) < tol:\n",
    "            break\n",
    "    return w"
   ]
  },
  {
   "cell_type": "code",
   "execution_count": 11,
   "metadata": {},
   "outputs": [],
   "source": [
    "### TESTS ###\n",
    "\n",
    "t4 = ParabolaObjective()\n",
    "t4_w_init = {\"0\": 3.0, \"1\": 7.0}\n",
    "t4_w_goal = {\"0\": 1.0, \"1\": 2.0}\n",
    "t4_dataset = {\"data\": []}\n",
    "\n",
    "t4_loss = 1.0\n",
    "t4_w = None\n",
    "\n",
    "def update_loss_w(w, i, loss):\n",
    "    global t4_loss\n",
    "    global t4_w\n",
    "    t4_loss = loss\n",
    "    t4_w = w\n",
    "\n",
    "gradient_descent(t4_dataset, t4_w_init, t4, 0.1, 0.001, 100, update_loss_w)\n",
    "\n",
    "\n",
    "assert_in_delta(0.01, t4_loss, 1e-2)\n",
    "assert_in_delta(t4_w_goal[\"0\"], t4_w[\"0\"], 1e-1)\n",
    "assert_in_delta(t4_w_goal[\"1\"], t4_w[\"1\"], 1e-1)"
   ]
  },
  {
   "cell_type": "code",
   "execution_count": 12,
   "metadata": {},
   "outputs": [],
   "source": [
    "### TEST ###\n",
    "t4 = ParabolaObjective()\n",
    "t4_w_init = {\"0\": 3.0, \"1\": 7.0}\n",
    "t4_data = {\"data\": []}\n",
    "\n",
    "t4_total_loss = 0.0\n",
    "t4_iterations = []\n",
    "t4_losses = []\n",
    "\n",
    "def call_back(w, i, loss):\n",
    "    global t4_total_loss\n",
    "    global t4_iterations\n",
    "    global t4_losses\n",
    "    t4_total_loss += loss\n",
    "    t4_iterations.append(i)\n",
    "    assert(i > 0) # \"Make sure to increment 'iter' before calling 'yield'\")\n",
    "    t4_losses.append(t4_total_loss / i)\n",
    "\n",
    "gradient_descent(t4_data, t4_w_init, t4, 0.1, 0.001, 100, call_back)\n",
    "\n",
    "assert(len(t4_iterations) > 30)\n",
    "assert(t4_losses[-1] < 3)\n",
    "assert(t4_losses[-1] > 0)\n",
    "assert(t4_iterations[-1] > 30)"
   ]
  },
  {
   "cell_type": "code",
   "execution_count": 13,
   "metadata": {},
   "outputs": [
    {
     "data": {
      "image/png": "[encoded data removed]",
      "text/plain": [
       "<Figure size 432x288 with 1 Axes>"
      ]
     },
     "metadata": {
      "needs_background": "light"
     },
     "output_type": "display_data"
    }
   ],
   "source": [
    "fig, ax = plt.subplots()\n",
    "ax.plot(t4_iterations, t4_losses)\n",
    "ax.set_xlabel('Iterations', fontsize=15)\n",
    "ax.set_ylabel('Cumulative Loss', fontsize=15)\n",
    "plt.show()"
   ]
  },
  {
   "cell_type": "markdown",
   "metadata": {},
   "source": [
    "## Question 3.1 (5 Points)\n",
    "\n",
    "Let's learn the parameter of a Bernoulli distribution using the method of maximum likelihood. Consider the following dataset in which we are tossing a biased coin with probability $\\mu$ of returning a success (1). There is an analytical solution to find this parameter $\\mu$ given a dataset of successes and trials. Compute this analytical solution. \n",
    "\n",
    "Here the ```label``` field is either 0 or 1. "
   ]
  },
  {
   "cell_type": "markdown",
   "metadata": {},
   "source": [
    "### Dataset format\n",
    "This is the format for the coin dataset. The format below will be used throughout most of the assignments. A dataset contains some extra details like the classes and names of features. The ```data``` entry is an array of examples containing ```features``` and a label. Notice that in this particular dataset, there aren't any \"features\", just a ```bias``` value."
   ]
  },
  {
   "cell_type": "code",
   "execution_count": 14,
   "metadata": {},
   "outputs": [],
   "source": [
    "def coin_dataset(n=10000):\n",
    "    p = 0.7743\n",
    "    dataset = []\n",
    "    rand = random.Random()\n",
    "    rand.seed(777) # seed random number generator\n",
    "    for _ in range(n):\n",
    "        outcome = 1.0 if rand.random() < p else 0.0\n",
    "        dataset.append({\"features\": {\"bias\": 1.0}, \"label\": outcome})\n",
    "    return {\"classes\": {}, \"features\": [\"bias\"], \"data\": dataset}"
   ]
  },
  {
   "cell_type": "code",
   "execution_count": 15,
   "metadata": {},
   "outputs": [
    {
     "name": "stdout",
     "output_type": "stream",
     "text": [
      "{\n",
      "    \"classes\": {},\n",
      "    \"features\": [\n",
      "        \"bias\"\n",
      "    ],\n",
      "    \"data\": [\n",
      "        {\n",
      "            \"features\": {\n",
      "                \"bias\": 1.0\n",
      "            },\n",
      "            \"label\": 1.0\n",
      "        }\n",
      "    ]\n",
      "}\n"
     ]
    }
   ],
   "source": [
    "import json\n",
    "print(json.dumps(coin_dataset(1), indent=4))"
   ]
  },
  {
   "cell_type": "code",
   "execution_count": 16,
   "metadata": {},
   "outputs": [],
   "source": [
    "def q31_binomial_parameter(coin_data):\n",
    "    return sum(e[\"label\"] for e in coin_data[\"data\"]) / len(coin_data[\"data\"])"
   ]
  },
  {
   "cell_type": "code",
   "execution_count": 17,
   "metadata": {},
   "outputs": [],
   "source": [
    "### TESTS ###\n",
    "\n",
    "t31_coin_data = coin_dataset(10000)\n",
    "assert_in_delta(0.77, q31_binomial_parameter(t31_coin_data), 5e-2)"
   ]
  },
  {
   "cell_type": "markdown",
   "metadata": {},
   "source": [
    "## Question 3.2 (5 Points)\n",
    "\n",
    "Now, let's use the maximum likelihood function and gradient descent to find the same parameter value. Define the objective function for a binomial distribution for multiple samples. Remember that the ```label``` is the target value and every example has only one feature, ```bias```. Learn the weight for the ```bias``` feature should converge to $w_{bias} = \\mu$.\n",
    "\n",
    "In this first step, calculate the log likelihood function for the binomial distribution of $n$ examples."
   ]
  },
  {
   "cell_type": "code",
   "execution_count": 18,
   "metadata": {},
   "outputs": [],
   "source": [
    "class BinomialModel:\n",
    "    def func(self, examples, w):\n",
    "        h = sum(e[\"label\"] for e in examples)  # head\n",
    "        t = len(examples) - h                  # tail\n",
    "        return - h * math.log(w[\"bias\"]) - t * math.log(1.0 - w[\"bias\"])"
   ]
  },
  {
   "cell_type": "code",
   "execution_count": 19,
   "metadata": {},
   "outputs": [],
   "source": [
    "### TEST ###\n",
    "t32_model = BinomialModel()\n",
    "t32_t1 = {\"features\": {\"bias\": 1.0}, \"label\": 0.0}\n",
    "t32_t2 = {\"features\": {\"bias\": 1.0}, \"label\": 1.0}\n",
    "t32_dataset = {\n",
    "  \"data\": [t32_t1, t32_t2]\n",
    "}\n",
    "\n",
    "assert_in_delta(1.469677, t32_model.func([t32_t1], {\"bias\": 0.77}), 1e-3)\n",
    "assert_in_delta(0.261365, t32_model.func([t32_t2], {\"bias\": 0.77}), 1e-3)\n",
    "assert_in_delta(1.731041, t32_model.func(t32_dataset[\"data\"], {\"bias\": 0.77}), 1e-3)"
   ]
  },
  {
   "cell_type": "markdown",
   "metadata": {},
   "source": [
    "## Question 3.3 (5 Points)\n",
    "\n",
    "Calculate the gradient of the binomial log likelihood function over $n$ examples."
   ]
  },
  {
   "cell_type": "code",
   "execution_count": 20,
   "metadata": {},
   "outputs": [],
   "source": [
    "def grad(self, examples, w):\n",
    "    # BEGIN YOUR CODE\n",
    "    h = sum(e[\"label\"] for e in examples)\n",
    "    t = len(examples) - h\n",
    "    g = {\"bias\": - (h / w[\"bias\"]) + t / (1.0 - w[\"bias\"])}\n",
    "    # END YOUR CODE\n",
    "    return g\n",
    "  \n",
    "## Adjusts the parameter to be within the allowable range\n",
    "def adjust(self, w):\n",
    "    w[\"bias\"] = min(max(0.001, w[\"bias\"]), 0.999)\n",
    "\n",
    "BinomialModel.grad = grad\n",
    "BinomialModel.adjust = adjust"
   ]
  },
  {
   "cell_type": "code",
   "execution_count": 21,
   "metadata": {},
   "outputs": [],
   "source": [
    "### TEST ###\n",
    "t33_model = BinomialModel()\n",
    "t33_t1 = {\"features\": {\"bias\": 1.0}, \"label\": 0.0}\n",
    "t33_t2 = {\"features\": {\"bias\": 1.0}, \"label\": 1.0}\n",
    "\n",
    "t33_dataset = {\"data\": [t33_t1, t33_t2]}\n",
    "\n",
    "assert_in_delta(4.347826, t32_model.grad([t33_t1], {\"bias\": 0.77})[\"bias\"], 1e-3)\n",
    "assert_in_delta(-1.29870, t32_model.grad([t33_t2], {\"bias\": 0.77})[\"bias\"], 1e-3)\n",
    "assert_in_delta(3.049124, t32_model.grad(t33_dataset[\"data\"], {\"bias\": 0.77})[\"bias\"], 1e-3)"
   ]
  },
  {
   "cell_type": "markdown",
   "metadata": {},
   "source": [
    "## Question 3.4 (5 Points)\n",
    "\n",
    "Putting the objective function to work, use gradient descent to find the parameter for the binomial distribution. You get to set the learning rate. Return the learning rate you have obtained which works well. You may have to try a few until you get it right.\n",
    "\n",
    "Note that, while capable of returning the same value, this method reads the data many more times than the analytical solution."
   ]
  },
  {
   "cell_type": "code",
   "execution_count": 22,
   "metadata": {},
   "outputs": [],
   "source": [
    "def q34_learning_rate():\n",
    "    # BEGIN YOUR CODE\n",
    "    return 0.000001\n",
    "    # END YOUR CODE"
   ]
  },
  {
   "cell_type": "code",
   "execution_count": 23,
   "metadata": {},
   "outputs": [
    {
     "name": "stdout",
     "output_type": "stream",
     "text": [
      "1\t{'bias': 0.32585206065692723}\t9572.265244497607\n",
      "11\t{'bias': 0.48225122911857}\t8148.965694777912\n",
      "21\t{'bias': 0.5806967643618449}\t7383.942570414282\n",
      "31\t{'bias': 0.6485706786389037}\t6902.477709888809\n",
      "41\t{'bias': 0.6952647330499797}\t6579.920631005548\n",
      "51\t{'bias': 0.7262952088008638}\t6355.8051620051765\n",
      "61\t{'bias': 0.7460015513307106}\t6195.239080009977\n",
      "71\t{'bias': 0.7579905337412772}\t6076.59853314645\n",
      "81\t{'bias': 0.7650428224694106}\t5986.213808546413\n",
      "91\t{'bias': 0.7690958137864268}\t5915.381175116339\n"
     ]
    },
    {
     "data": {
      "image/png": "[encoded data removed]",
      "text/plain": [
       "<Figure size 432x288 with 1 Axes>"
      ]
     },
     "metadata": {
      "needs_background": "light"
     },
     "output_type": "display_data"
    }
   ],
   "source": [
    "### TEST ###\n",
    "t34 = BinomialModel()\n",
    "rand = random.Random()\n",
    "t34_w_init = {\"bias\": rand.random()}\n",
    "t34_data = coin_dataset(10000)\n",
    "\n",
    "t34_learning_rate = q34_learning_rate()\n",
    "\n",
    "t34_total_loss = 0.0\n",
    "t34_iterations = []\n",
    "t34_losses = []\n",
    "t34_w = t34_w_init\n",
    "\n",
    "def call_back(w, i, loss):\n",
    "    global t34_total_loss\n",
    "    global t34_iterations\n",
    "    global t34_losses\n",
    "    global t34_w\n",
    "    t34_total_loss += loss\n",
    "    t34_iterations.append(i)\n",
    "    assert(i > 0) # \"Make sure to increment iter before calling yield\")\n",
    "    t34_losses.append(t34_total_loss / i)\n",
    "    t34_w = w\n",
    "    if i % 10 == 1:\n",
    "        print(\"\\t\".join([i.__str__(), w.__str__(), t34_losses[-1].__str__()]))\n",
    "\n",
    "gradient_descent(t34_data, t34_w_init, t34, t34_learning_rate, 0.001, 100, call_back)\n",
    "\n",
    "\n",
    "assert(t34_losses[-1] < 8000)\n",
    "assert(t34_losses[-1] > 0)\n",
    "assert(t34_iterations[-1] > 30)\n",
    "assert_in_delta(0.77, t34_w[\"bias\"], 5e-2)\n",
    "\n",
    "### Plot the cumulative loss per iteration\n",
    "fig, ax = plt.subplots()\n",
    "ax.plot(t34_iterations, t34_losses)\n",
    "ax.set_xlabel('Iterations', fontsize=15)\n",
    "ax.set_ylabel('Cumulative Loss', fontsize=15)\n",
    "plt.show()"
   ]
  },
  {
   "cell_type": "markdown",
   "metadata": {},
   "source": [
    "## Question 4.1 (10 Points)\n",
    "\n",
    "The maximum likelihood method above reads the data multiple times and can benefit from prior knowledge in the form of a prior distribution for the parameter, $\\mu$. Using the ```Beta distribution``` as the conjugate prior, implement the likelihood function and its gradient. Now we are learning three parameters altogether: $w_{bias} = \\mu$, $\\alpha$, $\\beta$.\n",
    "\n",
    "First, let's compute the closed form estimator for $\\mu$ with a fixed $\\alpha$ and $\\beta$."
   ]
  },
  {
   "cell_type": "code",
   "execution_count": 24,
   "metadata": {},
   "outputs": [],
   "source": [
    "def q41_closed_form_beta_binomial(coin_data, alpha, beta):\n",
    "    # BEGIN YOUR CODE\n",
    "    return alpha / (alpha + beta)\n",
    "    # END YOUR CODE"
   ]
  },
  {
   "cell_type": "code",
   "execution_count": 25,
   "metadata": {},
   "outputs": [],
   "source": [
    "### TEST ###\n",
    "t41_coin_data = coin_dataset(10000)\n",
    "assert_in_delta(0.77, q41_closed_form_beta_binomial(t41_coin_data, 7743, 10000 - 7743), 1e-1)"
   ]
  },
  {
   "cell_type": "markdown",
   "metadata": {},
   "source": [
    "## Question 4.2 (10 points)\n",
    "\n",
    "Implement the negative log likelihood function for the beta + binomial values. Checkout this [Wikipedia](https://en.wikipedia.org/wiki/Beta_distribution#Maximum_likelihood) definition of the likelihood function. Remember we are interested in he negative log likelihood.\n",
    "\n",
    "A special function is needed ```GSL::Sf::lnbeta(a, b)```."
   ]
  },
  {
   "cell_type": "code",
   "execution_count": 26,
   "metadata": {},
   "outputs": [],
   "source": [
    "import scipy.special as sc\n",
    "class BetaBinomialModel:\n",
    "    def func(self, examples, w):\n",
    "        # BEGIN YOUR CODE\n",
    "        h = sum(e[\"label\"] for e in examples)  # head\n",
    "        t = len(examples) - h                  # tail\n",
    "        bin_loss = - (h * math.log(w[\"bias\"]) + t * math.log(1 - w[\"bias\"]))\n",
    "        beta_loss = -(w['alpha'] - 1) * math.log(w[\"bias\"]) * (h + t) \\\n",
    "                     - (w['beta'] - 1) * math.log(1 - w[\"bias\"]) * (h + t)\n",
    "        beta_loss += (h + t) * math.log(sc.beta(w['alpha'], w['beta']))\n",
    "        return beta_loss + bin_loss\n",
    "        # END YOUR CODE\n",
    "\n",
    "    def adjust(self, w):\n",
    "        w[\"bias\"] = min(max(0.001, w[\"bias\"]), 0.999)\n",
    "        w[\"beta\"] = max(0.0001, w[\"beta\"])"
   ]
  },
  {
   "cell_type": "code",
   "execution_count": 27,
   "metadata": {},
   "outputs": [
    {
     "name": "stdout",
     "output_type": "stream",
     "text": [
      "10285.237043665873\n"
     ]
    }
   ],
   "source": [
    "### TESTS ###\n",
    "t42 = BetaBinomialModel()\n",
    "\n",
    "t42_data = coin_dataset(1000)[\"data\"]\n",
    "t42_w = {} # default 0.1\n",
    "t42_w[\"alpha\"] = 7.0\n",
    "t42_w[\"beta\"] = 3.0\n",
    "t42_w[\"bias\"] = 0.1\n",
    "\n",
    "print(t42.func(t42_data, t42_w))\n",
    "assert_in_delta(10285.237043665873, t42.func(t42_data, t42_w), 1e-2)"
   ]
  },
  {
   "cell_type": "markdown",
   "metadata": {},
   "source": [
    "## Question 4.3 (10 points)\n",
    "\n",
    "Implement the negative log likelihood gradient for all the parameters. Checkout this [Wikipedia](https://en.wikipedia.org/wiki/Beta_distribution#Maximum_likelihood) definition of the likelihood function. Remember we are interested in the negative log likelihood. The gradient for the ```bias``` requires all examples in the dataset. However, the gradient for ```alpha``` and ```beta``` does not require a pass over the dataset.\n",
    "\n",
    "A special function is needed ```GSL::Sf::psi(a + b)```."
   ]
  },
  {
   "cell_type": "code",
   "execution_count": 28,
   "metadata": {},
   "outputs": [
    {
     "name": "stdout",
     "output_type": "stream",
     "text": [
      "1.872784335098467\n"
     ]
    }
   ],
   "source": [
    "def grad(self, examples, w):\n",
    "    # BEGIN YOUR CODE\n",
    "    n = len(examples)\n",
    "    h = sum(e[\"label\"] for e in examples)  # head\n",
    "    t = len(examples) - h                  # tail\n",
    "    grad_bias = - (h / w[\"bias\"]) + (t / (1 - w[\"bias\"]))\n",
    "    grad_alpha = (-math.log(w[\"bias\"]) + sc.psi(w['alpha']) - sc.psi(w['alpha'] + w['beta']))\n",
    "    grad_beta = -math.log(1 - w[\"bias\"]) + sc.psi(w['beta']) - sc.psi(w['alpha'] + w['beta'])\n",
    "    return {\"bias\": grad_bias, 'alpha': grad_alpha, 'beta': grad_beta }\n",
    "    #END YOUR CODE\n",
    "\n",
    "BetaBinomialModel.grad = grad\n",
    "print(sc.psi(7.0))"
   ]
  },
  {
   "cell_type": "code",
   "execution_count": 29,
   "metadata": {},
   "outputs": [],
   "source": [
    "### TESTS ###\n",
    "\n",
    "t43 = BetaBinomialModel()\n",
    "t43_data = coin_dataset(1000)[\"data\"]\n",
    "t43_w = {}\n",
    "t43_w[\"bias\"] = 0.1\n",
    "t43_w[\"alpha\"] = 7.0\n",
    "t43_w[\"beta\"] = 3.0\n",
    "\n",
    "t43_grad = t43.grad(t43_data, t43_w)\n",
    "\n",
    "assert_in_delta(-7400.0, t43_grad[\"bias\"], 1e2)\n",
    "assert_in_delta(1.9236168390257913, t43_grad[\"alpha\"], 1e-1)\n",
    "assert_in_delta(-1.2236077383104214, t43_grad[\"beta\"], 1e-1)"
   ]
  },
  {
   "cell_type": "markdown",
   "metadata": {},
   "source": [
    "## Question 4.4 (20 points)\n",
    "\n",
    "Run the gradient descent by selecting the initial weights and learning rate. Try a few values. "
   ]
  },
  {
   "cell_type": "code",
   "execution_count": 30,
   "metadata": {},
   "outputs": [],
   "source": [
    "def q44_weights_and_learning_rate():\n",
    "    # BEGIN YOUR CODE\n",
    "    w = {\"bias\": 0.7, \"alpha\": 7.0, \"beta\": 3.0}\n",
    "    lr = 0.000001\n",
    "    #END YOUR CODE\n",
    "    return [w, lr]"
   ]
  },
  {
   "cell_type": "code",
   "execution_count": 31,
   "metadata": {},
   "outputs": [
    {
     "name": "stdout",
     "output_type": "stream",
     "text": [
      "1\t{'bias': 0.7035380952380952, 'alpha': 7.00000002229331, 'beta': 3.0000001249954495}\t-4412.725437219142\n",
      "11\t{'bias': 0.731635370163245, 'alpha': 7.000000487370085, 'beta': 3.0000007801322908}\t-4669.676377564177\n",
      "21\t{'bias': 0.7492954638419963, 'alpha': 7.000001269673247, 'beta': 3.0000005859272445}\t-4789.059467006642\n",
      "31\t{'bias': 0.7599475647157031, 'alpha': 7.000002242895413, 'beta': 2.999999828287605}\t-4840.528348691766\n",
      "41\t{'bias': 0.7661749014777313, 'alpha': 7.000003327978414, 'beta': 2.999998719424089}\t-4860.514188177582\n",
      "51\t{'bias': 0.769739466944564, 'alpha': 7.000004477270011, 'beta': 2.999997401225344}\t-4866.686676719843\n",
      "61\t{'bias': 0.7717531470790443, 'alpha': 7.000005662911989, 'beta': 2.999995961869592}\t-4867.145451559649\n",
      "71\t{'bias': 0.7728818362501624, 'alpha': 7.00000686895682, 'beta': 2.9999944536432293}\t-4865.454373226352\n",
      "81\t{'bias': 0.773511626800249, 'alpha': 7.0000080863949625, 'beta': 2.999992906681147}\t-4863.12463242221\n",
      "91\t{'bias': 0.7738621404364479, 'alpha': 7.0000093101763055, 'beta': 2.9999913380654406}\t-4860.764832899346\n",
      "100\n"
     ]
    },
    {
     "data": {
      "image/png": "[encoded data removed]",
      "text/plain": [
       "<Figure size 432x288 with 1 Axes>"
      ]
     },
     "metadata": {
      "needs_background": "light"
     },
     "output_type": "display_data"
    }
   ],
   "source": [
    "### TEST ###\n",
    "t44 = BetaBinomialModel()\n",
    "t44_data = coin_dataset(10000)\n",
    "\n",
    "t44_w_init, t44_learning_rate = q44_weights_and_learning_rate()\n",
    "\n",
    "t44_total_loss = 0.0\n",
    "t44_iterations = []\n",
    "t44_losses = []\n",
    "t44_w = t34_w_init\n",
    "def call_back(w, i, loss):\n",
    "    global t44_total_loss\n",
    "    global t44_iterations\n",
    "    global t44_losses\n",
    "    global t44_w\n",
    "    t44_total_loss += loss\n",
    "    t44_iterations.append(i)\n",
    "    t44_losses.append(t44_total_loss / i)\n",
    "    t44_w = w\n",
    "    if i % 10 == 1:\n",
    "        print(\"\\t\".join([i.__str__(), w.__str__(), t44_losses[-1].__str__()]))\n",
    "\n",
    "gradient_descent(t44_data, t44_w_init, t44, t44_learning_rate, 0.001, 100, call_back)\n",
    "\n",
    "print(len(t44_losses))\n",
    "assert(t44_losses[-1] < 8000)\n",
    "assert(t44_iterations[-1] > 30)\n",
    "assert_in_delta(0.77, t44_w[\"bias\"], 5e-2)\n",
    "\n",
    "### Plot the cumulative loss per iteration\n",
    "fig, ax = plt.subplots()\n",
    "ax.plot(t44_iterations, t44_losses)\n",
    "ax.set_xlabel('Iterations', fontsize=15)\n",
    "ax.set_ylabel('Cumulative Loss', fontsize=15)\n",
    "plt.show()"
   ]
  }
 ],
 "metadata": {
  "kernelspec": {
   "display_name": "Python 3",
   "language": "python",
   "name": "python3"
  },
  "language_info": {
   "codemirror_mode": {
    "name": "ipython",
    "version": 3
   },
   "file_extension": ".py",
   "mimetype": "text/x-python",
   "name": "python",
   "nbconvert_exporter": "python",
   "pygments_lexer": "ipython3",
   "version": "3.7.6"
  }
 },
 "nbformat": 4,
 "nbformat_minor": 4
}
